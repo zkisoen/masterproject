{
 "cells": [
  {
   "cell_type": "code",
   "execution_count": 1,
   "metadata": {},
   "outputs": [
    {
     "name": "stdout",
     "output_type": "stream",
     "text": [
      "Note: you may need to restart the kernel to use updated packages.\n"
     ]
    }
   ],
   "source": [
    "pip install -qq google-play-scraper"
   ]
  },
  {
   "cell_type": "code",
   "execution_count": 2,
   "metadata": {},
   "outputs": [
    {
     "name": "stdout",
     "output_type": "stream",
     "text": [
      "Note: you may need to restart the kernel to use updated packages.\n"
     ]
    }
   ],
   "source": [
    "pip install -qq -U watermark"
   ]
  },
  {
   "cell_type": "code",
   "execution_count": 3,
   "metadata": {},
   "outputs": [
    {
     "name": "stdout",
     "output_type": "stream",
     "text": [
      "CPython 3.7.4\n",
      "IPython 7.8.0\n",
      "\n",
      "pandas 0.25.1\n",
      "matplotlib 3.1.1\n",
      "seaborn 0.9.0\n",
      "google_play_scraper 0.0.2.5\n"
     ]
    }
   ],
   "source": [
    "%reload_ext watermark\n",
    "%watermark -v -p pandas,matplotlib,seaborn,google_play_scraper"
   ]
  },
  {
   "cell_type": "code",
   "execution_count": 4,
   "metadata": {},
   "outputs": [],
   "source": [
    "import json\n",
    "import pandas as pd\n",
    "from tqdm import tqdm\n",
    "\n",
    "import seaborn as sns\n",
    "import matplotlib.pyplot as plt\n",
    "\n",
    "from pygments import highlight\n",
    "from pygments.lexers import JsonLexer\n",
    "from pygments.formatters import TerminalFormatter\n",
    "\n",
    "from google_play_scraper import Sort, reviews, app\n",
    "\n",
    "%matplotlib inline\n",
    "%config InlineBackend.figure_format='retina'\n",
    "\n",
    "sns.set(style='whitegrid', palette='muted', font_scale=1.2)"
   ]
  },
  {
   "cell_type": "code",
   "execution_count": 19,
   "metadata": {},
   "outputs": [],
   "source": [
    "app_packages = [\n",
    "    'com.takeaway.android',\n",
    "    'com.ubercab.eats',\n",
    "    'com.mcdonalds.mobileapp',\n",
    "    'com.deliveroo.orderapp',\n",
    "    'de.foodora.android',\n",
    "    'com.hellofresh.androidapp',\n",
    "    'de.burgerking.kingfinder'\n",
    "]"
   ]
  },
  {
   "cell_type": "code",
   "execution_count": 20,
   "metadata": {},
   "outputs": [
    {
     "name": "stderr",
     "output_type": "stream",
     "text": [
      "100%|██████████| 7/7 [00:01<00:00,  4.25it/s]\n"
     ]
    }
   ],
   "source": [
    "app_infos = []\n",
    "\n",
    "for ap in tqdm(app_packages):\n",
    "  info = app(ap, lang='en', country='us')\n",
    "  del info['comments']\n",
    "  app_infos.append(info)"
   ]
  },
  {
   "cell_type": "code",
   "execution_count": 21,
   "metadata": {},
   "outputs": [],
   "source": [
    "def print_json(json_object):\n",
    "  json_str = json.dumps(\n",
    "    json_object, \n",
    "    indent=2, \n",
    "    sort_keys=True, \n",
    "    default=str\n",
    "  )\n",
    "  print(highlight(json_str, JsonLexer(), TerminalFormatter()))"
   ]
  },
  {
   "cell_type": "code",
   "execution_count": 22,
   "metadata": {},
   "outputs": [
    {
     "name": "stdout",
     "output_type": "stream",
     "text": [
      "{\n",
      "  \"adSupported\": null,\n",
      "  \"androidVersion\": \"Varies\",\n",
      "  \"androidVersionText\": \"Varies with device\",\n",
      "  \"appId\": \"com.takeaway.android\",\n",
      "  \"containsAds\": null,\n",
      "  \"contentRating\": \"Everyone\",\n",
      "  \"contentRatingDescription\": null,\n",
      "  \"currency\": \"USD\",\n",
      "  \"description\": \"<b>Order food online with your Android smartphone or tablet using the Thuisbezorgd.nl app. Super easy!</b>\\r\\n\\r\\n<b>Benefits of our app:</b>\\r\\n\\u2714\\ufe0f Ordering food online is just a few steps away.\\r\\n\\u2714\\ufe0f See the locations of all restaurants on a map (SD access needed for temporary storage of card).\\r\\n\\u2714\\ufe0f Pay safely with a credit card, iDEAL or PayPal.\\r\\n\\u2714\\ufe0f Log in with your account and (re)order easily.\\r\\n\\u2714\\ufe0f Add to your widgets to always have your favourite restaurants at hand.\\r\\n\\u2714\\ufe0f Would you rather pick up your food? Switch to the pickup option to see which restaurants allow this feature\\r\\n\\r\\nWant to order a tasty pizza, salad, burger or kebab? Our app lets you order the best dishes from thousands of restaurants across the Netherlands, including Domino's Pizza, New York Pizza, Subway, Wok2Go, Febo, Bezorgbeer and many more. Craving Chinese, Indian, Italian or Greek food? You'll be spoilt for choice! Restaurants usually take 30-45 minutes to deliver.\\r\\n\\r\\n<b>Works like this:</b>\\r\\nOrdering is very simple. Fill in your postcode/street name or simply let the app find your location automatically. Choose your restaurant and dish \\ud83c\\udf55\\ud83c\\udf54\\ud83c\\udf2e\\ud83e\\udd57\\ud83c\\udf63. Pay the meal easily pay with PayPal, iDEAL or a credit card. Naturally, you can also pay with cash on delivery.\\r\\n\\r\\n<b>Follow your order to your doorstep:</b>\\r\\nDo you want to know where your order is? Follow your order from kitchen to doorstep with Food Tracker \\u00ae. We'll text you to update you about the status of your order. You'll receive three texts: one to confirm your order, another one to let you know that your food is being prepared and the last one to inform you when your food is on its way.\\r\\n\\r\\n<b>Just Eat</b>\\r\\nJust Eat is now Thuisbezorgd.nl. Thanks to the acquisition of Just Eat The Netherlands we are able to provide you even more choices of restaurants.\\r\\n\\r\\n<b>All advantages at a glance:</b>\\r\\n\\u2714\\ufe0f New! Choose whether you want to pick up your food or have it delivered.\\r\\n\\u2714\\ufe0f More filters! Filter on reviews, distance, popularity, newest restaurant, price, product, delivery costs, alphabetical order and relevance.\\r\\n\\u2714\\ufe0f Map view: see the exact location of every restaurant on a map.\\r\\n\\u2714\\ufe0f Popular dishes: overview of the restaurant's most popular dishes.\\r\\n\\u2714\\ufe0f Wide selection of cuisines: Italian, Chinese, Thai, vegetarian and much more!\\r\\n\\u2714\\ufe0f Landscape or portrait mode: the app will easily adapt.\\r\\n\\u2714\\ufe0f The app is available in 6 languages. Switch to Dutch, English, French, German, Polish or Vietnamese anytime.\\r\\n\\u2714\\ufe0f Log in with an existing account or create a new one.\\r\\n\\u2714\\ufe0f Addresses: all your saved addresses will be available in the app for your next order.\\r\\n\\u2714\\ufe0f Reorder: choose an order from your order history and reorder in no time.\\r\\n\\u2714\\ufe0f Widget: all of your favourite restaurants in one widget on your start screen.\\r\\n\\r\\n<b>We are constantly improving:</b>\\r\\nLoving it? Leave a review! The Thuisbezorgd.nl Android app has regular updates and new features. Do you have tips, ideas or any other feedback for our app? Contact us at androidapp@takeaway.com, we'll gladly answer!\\r\\n\\r\\nBon APP\\u00e9tit \\ud83c\\udf7d\\ufe0f\",\n",
      "  \"descriptionHTML\": \"<b>Order food online with your Android smartphone or tablet using the Thuisbezorgd.nl app. Super easy!</b><br><br><b>Benefits of our app:</b><br>\\u2714\\ufe0f Ordering food online is just a few steps away.<br>\\u2714\\ufe0f See the locations of all restaurants on a map (SD access needed for temporary storage of card).<br>\\u2714\\ufe0f Pay safely with a credit card, iDEAL or PayPal.<br>\\u2714\\ufe0f Log in with your account and (re)order easily.<br>\\u2714\\ufe0f Add to your widgets to always have your favourite restaurants at hand.<br>\\u2714\\ufe0f Would you rather pick up your food? Switch to the pickup option to see which restaurants allow this feature<br><br>Want to order a tasty pizza, salad, burger or kebab? Our app lets you order the best dishes from thousands of restaurants across the Netherlands, including Domino&#39;s Pizza, New York Pizza, Subway, Wok2Go, Febo, Bezorgbeer and many more. Craving Chinese, Indian, Italian or Greek food? You&#39;ll be spoilt for choice! Restaurants usually take 30-45 minutes to deliver.<br><br><b>Works like this:</b><br>Ordering is very simple. Fill in your postcode/street name or simply let the app find your location automatically. Choose your restaurant and dish \\ud83c\\udf55\\ud83c\\udf54\\ud83c\\udf2e\\ud83e\\udd57\\ud83c\\udf63. Pay the meal easily pay with PayPal, iDEAL or a credit card. Naturally, you can also pay with cash on delivery.<br><br><b>Follow your order to your doorstep:</b><br>Do you want to know where your order is? Follow your order from kitchen to doorstep with Food Tracker \\u00ae. We&#39;ll text you to update you about the status of your order. You&#39;ll receive three texts: one to confirm your order, another one to let you know that your food is being prepared and the last one to inform you when your food is on its way.<br><br><b>Just Eat</b><br>Just Eat is now Thuisbezorgd.nl. Thanks to the acquisition of Just Eat The Netherlands we are able to provide you even more choices of restaurants.<br><br><b>All advantages at a glance:</b><br>\\u2714\\ufe0f New! Choose whether you want to pick up your food or have it delivered.<br>\\u2714\\ufe0f More filters! Filter on reviews, distance, popularity, newest restaurant, price, product, delivery costs, alphabetical order and relevance.<br>\\u2714\\ufe0f Map view: see the exact location of every restaurant on a map.<br>\\u2714\\ufe0f Popular dishes: overview of the restaurant&#39;s most popular dishes.<br>\\u2714\\ufe0f Wide selection of cuisines: Italian, Chinese, Thai, vegetarian and much more!<br>\\u2714\\ufe0f Landscape or portrait mode: the app will easily adapt.<br>\\u2714\\ufe0f The app is available in 6 languages. Switch to Dutch, English, French, German, Polish or Vietnamese anytime.<br>\\u2714\\ufe0f Log in with an existing account or create a new one.<br>\\u2714\\ufe0f Addresses: all your saved addresses will be available in the app for your next order.<br>\\u2714\\ufe0f Reorder: choose an order from your order history and reorder in no time.<br>\\u2714\\ufe0f Widget: all of your favourite restaurants in one widget on your start screen.<br><br><b>We are constantly improving:</b><br>Loving it? Leave a review! The Thuisbezorgd.nl Android app has regular updates and new features. Do you have tips, ideas or any other feedback for our app? Contact us at androidapp@takeaway.com, we&#39;ll gladly answer!<br><br>Bon APP\\u00e9tit \\ud83c\\udf7d\\ufe0f\",\n",
      "  \"developer\": \"Takeaway.com\",\n",
      "  \"developerAddress\": null,\n",
      "  \"developerEmail\": \"androidapp@takeaway.com\",\n",
      "  \"developerId\": \"Takeaway.com\",\n",
      "  \"developerInternalID\": \"8606963933177543282\",\n",
      "  \"developerWebsite\": \"https://www.thuisbezorgd.nl/\",\n",
      "  \"free\": true,\n",
      "  \"genre\": \"Food & Drink\",\n",
      "  \"genreId\": \"FOOD_AND_DRINK\",\n",
      "  \"headerImage\": \"https://lh3.googleusercontent.com/oM4nxjVv2RWsuNSRvncLm8ycCTpSnTe0_Y5PH0_zJDWSGSsQt_czSyPRLbyWDvbzrKM\",\n",
      "  \"histogram\": [\n",
      "    2546,\n",
      "    943,\n",
      "    2505,\n",
      "    13310,\n",
      "    43228\n",
      "  ],\n",
      "  \"icon\": \"https://lh3.googleusercontent.com/E37cLL2Td19xZENlx2rdKEotTDdDiHDVrp88u28Qkv90VSCtt34dnnqfXUpB0XRwHQ\",\n",
      "  \"installs\": \"1,000,000+\",\n",
      "  \"minInstalls\": 1000000,\n",
      "  \"offersIAP\": null,\n",
      "  \"price\": 0,\n",
      "  \"privacyPolicy\": \"https://www.thuisbezorgd.nl/privacy-statement\",\n",
      "  \"ratings\": 62535,\n",
      "  \"recentChanges\": \"Yay! We've just made our app a little bit better again.\\r\\n\\r\\nIf you have important feedback, a question, or you just want to tell us a fun story, please don't hesitate to contact us at androidapp@takeaway.com.\",\n"
     ]
    },
    {
     "name": "stdout",
     "output_type": "stream",
     "text": [
      "  \"recentChangesHTML\": \"Yay! We&#39;ve just made our app a little bit better again.<br><br>If you have important feedback, a question, or you just want to tell us a fun story, please don&#39;t hesitate to contact us at androidapp@takeaway.com.\",\n",
      "  \"released\": \"Oct 28, 2010\",\n",
      "  \"reviews\": 19698,\n",
      "  \"score\": 4.498864,\n",
      "  \"screenshots\": [\n",
      "    \"https://lh3.googleusercontent.com/_ZUIEpRX6XJhfClV7BnqJ2IbwbfO8SE_OkAQ0SQXP-ir2naPA8vmjVlucsi8JSZqUg\",\n",
      "    \"https://lh3.googleusercontent.com/00WNMQIvh2tt2lYWFTTn99mLgiBXB8hUtyXSeeRlqhvTk2sS6Xe1NteGCkTZRi3tBH6j\",\n",
      "    \"https://lh3.googleusercontent.com/IujtHhuGM5qFdmNLN-bMrS4_3AhoQa29uxEgtE3y4kdhZYzfArq33X6l0SHY2BGCQw\",\n",
      "    \"https://lh3.googleusercontent.com/I3gaMNIZnqyp9f_BybS1yIXa6wi-Q0CCa9WPL3riPK1ZCxSWKYMSBMKCsSZvR9mZpA4\",\n",
      "    \"https://lh3.googleusercontent.com/8SrMEYihRexX3Z5O5RRPAIVDW0vqP8uFiC7NlhZ71qR4M0qMZwBrr_pKGIQi6d3dVw\",\n",
      "    \"https://lh3.googleusercontent.com/I0oR7343pE_g8F7Q7C49N4z5eu2DpeaXJOTfkid15S1nKYGAMyEnQ_2-5gMq-38jAJs\",\n",
      "    \"https://lh3.googleusercontent.com/3eVTZ0Uts1U8gZRlA3w2j-Y4OBHeYR3IqA0QucPBJwat3pWPoUwq3_toO_B4EWK8ATI\",\n",
      "    \"https://lh3.googleusercontent.com/PqgHsEhSpbFuKSHP2wbYe5NC7GlADRnbPvA3_rs4bbF7oq1cqYvBMOOsHJhJidQyxg\",\n",
      "    \"https://lh3.googleusercontent.com/UbiIcvr7NUQnsCU-nO4lDn3ZMAo87Vornmj5W1WOXNnerNNL3Dr8dnhA3iPwXyPFwNA\",\n",
      "    \"https://lh3.googleusercontent.com/tbUcsD2wz7XKK48tfcyBGxUTH-PU6cKrbRSBj--EG1rPKI20QeQJPZ2YjfOW28d3Sms\",\n",
      "    \"https://lh3.googleusercontent.com/ji6RvVJ5GZGvvAIDLpjux43Ow_IjNNqYYm3Z1HPWdwkeGSKDDXMJpyzNRVnMva7pAw\",\n",
      "    \"https://lh3.googleusercontent.com/sHZxGQ39A9KIeTgBqpuHGVddD09bYP6RHRCZGw91VPK4rA7wuXvrcjmPzJx4ZTBq-CE\",\n",
      "    \"https://lh3.googleusercontent.com/sJzUQEl-Uavb6t9rDCzZYNuUE9MInDG6rcP1y-RfcROz-D-EKezXhPcD6TDBSHN-2WE\",\n",
      "    \"https://lh3.googleusercontent.com/fwVSZpboqCUm3r-TSmVH46lUMukxiLlDzwbTNkmIyfUuwdvLIS20nASd7WFurqCYNo8\",\n",
      "    \"https://lh3.googleusercontent.com/JU7G6gpQxbMjgTLew4NBFyMmS7sthgJ25W2_rcJLxYeOejMb5Yzy6Bl0XXNzdV1BG8i1\",\n",
      "    \"https://lh3.googleusercontent.com/70HWaEBOdR87aRfu_gH9VKHdwuUa6i_elR9UQhjY1ePjFDPsQwWXY6SDKv29SzH36jo\",\n",
      "    \"https://lh3.googleusercontent.com/vRaebkntuxmtuWbtZ2AGwGcKLp_PJ7ST6V6kAJE9O2at0lW2eM7F0zvTrkqy6k0s60IW\",\n",
      "    \"https://lh3.googleusercontent.com/ZYSKH5vx_GJzz-obnJXZElfzSYAVYAuPeppcZlfjpMwDgCJkbN3LGPhAmqEm-iBePiWP\"\n",
      "  ],\n",
      "  \"size\": \"Varies with device\",\n",
      "  \"summary\": \"Order pizza, sushi, Chinese and more online with this free app.\",\n",
      "  \"summaryHTML\": \"Order pizza, sushi, Chinese and more online with this free app.\",\n",
      "  \"title\": \"Thuisbezorgd.nl - Order food online\",\n",
      "  \"updated\": 1587736018,\n",
      "  \"url\": \"https://play.google.com/store/apps/details?id=com.takeaway.android&hl=en&gl=us\",\n",
      "  \"version\": \"Varies with device\",\n",
      "  \"video\": \"https://www.youtube.com/embed/BhBR55d7uRc?ps=play&vq=large&rel=0&autohide=1&showinfo=0\",\n",
      "  \"videoImage\": \"https://i.ytimg.com/vi/BhBR55d7uRc/hqdefault.jpg\"\n",
      "}\n",
      "\n"
     ]
    }
   ],
   "source": [
    "print_json(app_infos[0])"
   ]
  },
  {
   "cell_type": "code",
   "execution_count": 23,
   "metadata": {},
   "outputs": [
    {
     "data": {
      "image/png": "[encoded data removed]",
      "text/plain": [
       "<Figure size 1008x360 with 6 Axes>"
      ]
     },
     "metadata": {
      "image/png": {
       "height": 302,
       "width": 689
      }
     },
     "output_type": "display_data"
    }
   ],
   "source": [
    "def format_title(title):\n",
    "  sep_index = title.find(':') if title.find(':') != -1 else title.find('-')\n",
    "  if sep_index != -1:\n",
    "    title = title[:sep_index]\n",
    "  return title[:10]\n",
    "\n",
    "fig, axs = plt.subplots(2, len(app_infos) // 2, figsize=(14, 5))\n",
    "\n",
    "for i, ax in enumerate(axs.flat):\n",
    "  ai = app_infos[i]\n",
    "  img = plt.imread(ai['icon'])\n",
    "  ax.imshow(img)\n",
    "  ax.set_title(format_title(ai['title']))\n",
    "  ax.axis('off')"
   ]
  },
  {
   "cell_type": "code",
   "execution_count": 24,
   "metadata": {},
   "outputs": [],
   "source": [
    "app_infos_df = pd.DataFrame(app_infos)\n",
    "app_infos_df.to_csv('apps.csv', index=None, header=True)"
   ]
  },
  {
   "cell_type": "code",
   "execution_count": 25,
   "metadata": {},
   "outputs": [
    {
     "name": "stderr",
     "output_type": "stream",
     "text": [
      "100%|██████████| 7/7 [00:27<00:00,  3.97s/it]\n"
     ]
    }
   ],
   "source": [
    "app_reviews = []\n",
    "\n",
    "for ap in tqdm(app_packages):\n",
    "  for score in list(range(1, 6)):\n",
    "    for sort_order in [Sort.MOST_RELEVANT, Sort.NEWEST]:\n",
    "      rvs, _ = reviews(\n",
    "        ap,\n",
    "        lang='en',\n",
    "        country='us',\n",
    "        sort=sort_order,\n",
    "        count= 200 if score == 3 else 100,\n",
    "        filter_score_with=score\n",
    "      )\n",
    "      for r in rvs:\n",
    "        r['sortOrder'] = 'most_relevant' if sort_order == Sort.MOST_RELEVANT else 'newest'\n",
    "        r['appId'] = ap\n",
    "      app_reviews.extend(rvs)"
   ]
  },
  {
   "cell_type": "code",
   "execution_count": 26,
   "metadata": {},
   "outputs": [
    {
     "name": "stdout",
     "output_type": "stream",
     "text": [
      "{\n",
      "  \"appId\": \"com.takeaway.android\",\n",
      "  \"at\": \"2020-03-22 19:04:07\",\n",
      "  \"content\": \"Rarely has an order gone smoothly. Seemingly buggy backend.\",\n",
      "  \"repliedAt\": \"2020-03-23 09:32:57\",\n",
      "  \"replyContent\": \"Hi,\\n\\nThank you for your review.\\n\\nWe have had some issues regarding hackers this last week. Our system is still recovering from this. If something went wrong with your order we want to ask you to sent a message to info@thuisbezorgd.nl. Our apologies for the inconvenience.\\n\\nKind regards,\\nDemi - Team Thuisbezorgd.nl\",\n",
      "  \"reviewCreatedVersion\": \"6.11.4\",\n",
      "  \"reviewId\": \"gp:AOqpTOGeqY9g7FZfEHGkCqD0k-hR3-CicJG87jnLspXJBiHEbMcCgU7GNx0Hd5wq8-MTjG-oteDFcrnIHux4mA\",\n",
      "  \"score\": 1,\n",
      "  \"sortOrder\": \"most_relevant\",\n",
      "  \"thumbsUpCount\": 1,\n",
      "  \"userImage\": \"https://lh3.googleusercontent.com/a-/AOh14GjKHT4fxk9zX3aPwqVpezM3eTySJDiI0lLuaOw5Ow\",\n",
      "  \"userName\": \"T D\"\n",
      "}\n",
      "\n"
     ]
    }
   ],
   "source": [
    "print_json(app_reviews[0])"
   ]
  },
  {
   "cell_type": "code",
   "execution_count": 27,
   "metadata": {},
   "outputs": [
    {
     "data": {
      "text/plain": [
       "7786"
      ]
     },
     "execution_count": 27,
     "metadata": {},
     "output_type": "execute_result"
    }
   ],
   "source": [
    "len(app_reviews)"
   ]
  },
  {
   "cell_type": "code",
   "execution_count": 28,
   "metadata": {},
   "outputs": [],
   "source": [
    "app_reviews_df = pd.DataFrame(app_reviews)\n",
    "app_reviews_df.to_csv('reviews.csv', index=None, header=True)"
   ]
  },
  {
   "cell_type": "code",
   "execution_count": 33,
   "metadata": {},
   "outputs": [
    {
     "data": {
      "text/html": [
       "<div>\n",
       "<style scoped>\n",
       "    .dataframe tbody tr th:only-of-type {\n",
       "        vertical-align: middle;\n",
       "    }\n",
       "\n",
       "    .dataframe tbody tr th {\n",
       "        vertical-align: top;\n",
       "    }\n",
       "\n",
       "    .dataframe thead th {\n",
       "        text-align: right;\n",
       "    }\n",
       "</style>\n",
       "<table border=\"1\" class=\"dataframe\">\n",
       "  <thead>\n",
       "    <tr style=\"text-align: right;\">\n",
       "      <th></th>\n",
       "      <th>reviewId</th>\n",
       "      <th>userName</th>\n",
       "      <th>userImage</th>\n",
       "      <th>content</th>\n",
       "      <th>score</th>\n",
       "      <th>thumbsUpCount</th>\n",
       "      <th>reviewCreatedVersion</th>\n",
       "      <th>at</th>\n",
       "      <th>replyContent</th>\n",
       "      <th>repliedAt</th>\n",
       "      <th>sortOrder</th>\n",
       "      <th>appId\\r</th>\n",
       "    </tr>\n",
       "  </thead>\n",
       "  <tbody>\n",
       "    <tr>\n",
       "      <td>0</td>\n",
       "      <td>gp:AOqpTOGeqY9g7FZfEHGkCqD0k-hR3-CicJG87jnLspX...</td>\n",
       "      <td>T D</td>\n",
       "      <td>https://lh3.googleusercontent.com/a-/AOh14GjKH...</td>\n",
       "      <td>Rarely has an order gone smoothly. Seemingly b...</td>\n",
       "      <td>1</td>\n",
       "      <td>1</td>\n",
       "      <td>6.11.4</td>\n",
       "      <td>2020-03-22 19:04:07</td>\n",
       "      <td>Hi,\\n\\nThank you for your review.\\n\\nWe have h...</td>\n",
       "      <td>2020-03-23 09:32:57</td>\n",
       "      <td>most_relevant</td>\n",
       "      <td>com.takeaway.android\\r</td>\n",
       "    </tr>\n",
       "    <tr>\n",
       "      <td>1</td>\n",
       "      <td>gp:AOqpTOHkUsuQrEbTGfEO5Dy-gY6Q1z7tElixLmWVDQa...</td>\n",
       "      <td>A Google user</td>\n",
       "      <td>https://lh3.googleusercontent.com/EGemoI2NTXmT...</td>\n",
       "      <td>Useless the website is better. A failure in co...</td>\n",
       "      <td>1</td>\n",
       "      <td>0</td>\n",
       "      <td>6.11.4</td>\n",
       "      <td>2020-04-03 13:02:26</td>\n",
       "      <td>Dear customer, \\n\\nWe are sorry to hear you ar...</td>\n",
       "      <td>2020-04-03 23:54:12</td>\n",
       "      <td>most_relevant</td>\n",
       "      <td>com.takeaway.android\\r</td>\n",
       "    </tr>\n",
       "    <tr>\n",
       "      <td>2</td>\n",
       "      <td>gp:AOqpTOEEvOL5iiQWpIimXwAC7ALE7zA6ndV3bqXdWFr...</td>\n",
       "      <td>Jesse Dodde</td>\n",
       "      <td>https://lh3.googleusercontent.com/a-/AOh14GgI2...</td>\n",
       "      <td>The app doesn't do payment well. Paying using ...</td>\n",
       "      <td>1</td>\n",
       "      <td>1</td>\n",
       "      <td>6.9.0</td>\n",
       "      <td>2020-01-11 16:42:31</td>\n",
       "      <td>Dear Jesse,\\n\\nThank you for your review.\\n\\nW...</td>\n",
       "      <td>2020-01-12 10:19:12</td>\n",
       "      <td>most_relevant</td>\n",
       "      <td>com.takeaway.android\\r</td>\n",
       "    </tr>\n",
       "    <tr>\n",
       "      <td>3</td>\n",
       "      <td>gp:AOqpTOGnUVe95cFUBtGeU1SC05i_-Z7wZwF5odJpvcp...</td>\n",
       "      <td>Sedat Sever</td>\n",
       "      <td>https://lh3.googleusercontent.com/a-/AOh14GjVe...</td>\n",
       "      <td>Vouchers and discounts do not work as advertis...</td>\n",
       "      <td>1</td>\n",
       "      <td>4</td>\n",
       "      <td>6.9.0</td>\n",
       "      <td>2020-01-01 18:33:32</td>\n",
       "      <td>Dear Sedat, \\n\\nThank you for the review. We u...</td>\n",
       "      <td>2020-01-01 21:07:33</td>\n",
       "      <td>most_relevant</td>\n",
       "      <td>com.takeaway.android\\r</td>\n",
       "    </tr>\n",
       "    <tr>\n",
       "      <td>4</td>\n",
       "      <td>gp:AOqpTOESd2tXyG0GshRcttdpMqv_0GrLxWmBrESGxWH...</td>\n",
       "      <td>Floran Felen</td>\n",
       "      <td>https://lh3.googleusercontent.com/-s1piPDEOQZ8...</td>\n",
       "      <td>Can't sign in, app keeps stopping and restarti...</td>\n",
       "      <td>1</td>\n",
       "      <td>8</td>\n",
       "      <td>6.9.0</td>\n",
       "      <td>2020-02-04 05:36:00</td>\n",
       "      <td>Dear Floran, \\n\\nThank you for your feedback. ...</td>\n",
       "      <td>2019-01-07 09:36:12</td>\n",
       "      <td>most_relevant</td>\n",
       "      <td>com.takeaway.android\\r</td>\n",
       "    </tr>\n",
       "  </tbody>\n",
       "</table>\n",
       "</div>"
      ],
      "text/plain": [
       "                                            reviewId       userName  \\\n",
       "0  gp:AOqpTOGeqY9g7FZfEHGkCqD0k-hR3-CicJG87jnLspX...            T D   \n",
       "1  gp:AOqpTOHkUsuQrEbTGfEO5Dy-gY6Q1z7tElixLmWVDQa...  A Google user   \n",
       "2  gp:AOqpTOEEvOL5iiQWpIimXwAC7ALE7zA6ndV3bqXdWFr...    Jesse Dodde   \n",
       "3  gp:AOqpTOGnUVe95cFUBtGeU1SC05i_-Z7wZwF5odJpvcp...    Sedat Sever   \n",
       "4  gp:AOqpTOESd2tXyG0GshRcttdpMqv_0GrLxWmBrESGxWH...   Floran Felen   \n",
       "\n",
       "                                           userImage  \\\n",
       "0  https://lh3.googleusercontent.com/a-/AOh14GjKH...   \n",
       "1  https://lh3.googleusercontent.com/EGemoI2NTXmT...   \n",
       "2  https://lh3.googleusercontent.com/a-/AOh14GgI2...   \n",
       "3  https://lh3.googleusercontent.com/a-/AOh14GjVe...   \n",
       "4  https://lh3.googleusercontent.com/-s1piPDEOQZ8...   \n",
       "\n",
       "                                             content  score  thumbsUpCount  \\\n",
       "0  Rarely has an order gone smoothly. Seemingly b...      1              1   \n",
       "1  Useless the website is better. A failure in co...      1              0   \n",
       "2  The app doesn't do payment well. Paying using ...      1              1   \n",
       "3  Vouchers and discounts do not work as advertis...      1              4   \n",
       "4  Can't sign in, app keeps stopping and restarti...      1              8   \n",
       "\n",
       "  reviewCreatedVersion                   at  \\\n",
       "0               6.11.4  2020-03-22 19:04:07   \n",
       "1               6.11.4  2020-04-03 13:02:26   \n",
       "2                6.9.0  2020-01-11 16:42:31   \n",
       "3                6.9.0  2020-01-01 18:33:32   \n",
       "4                6.9.0  2020-02-04 05:36:00   \n",
       "\n",
       "                                        replyContent            repliedAt  \\\n",
       "0  Hi,\\n\\nThank you for your review.\\n\\nWe have h...  2020-03-23 09:32:57   \n",
       "1  Dear customer, \\n\\nWe are sorry to hear you ar...  2020-04-03 23:54:12   \n",
       "2  Dear Jesse,\\n\\nThank you for your review.\\n\\nW...  2020-01-12 10:19:12   \n",
       "3  Dear Sedat, \\n\\nThank you for the review. We u...  2020-01-01 21:07:33   \n",
       "4  Dear Floran, \\n\\nThank you for your feedback. ...  2019-01-07 09:36:12   \n",
       "\n",
       "       sortOrder                 appId\\r  \n",
       "0  most_relevant  com.takeaway.android\\r  \n",
       "1  most_relevant  com.takeaway.android\\r  \n",
       "2  most_relevant  com.takeaway.android\\r  \n",
       "3  most_relevant  com.takeaway.android\\r  \n",
       "4  most_relevant  com.takeaway.android\\r  "
      ]
     },
     "execution_count": 33,
     "metadata": {},
     "output_type": "execute_result"
    }
   ],
   "source": [
    "df = pd.read_csv('reviews.csv', lineterminator='\\n')\n",
    "df.shape\n",
    "df.head()"
   ]
  },
  {
   "cell_type": "code",
   "execution_count": null,
   "metadata": {},
   "outputs": [],
   "source": []
  }
 ],
 "metadata": {
  "kernelspec": {
   "display_name": "Python 3",
   "language": "python",
   "name": "python3"
  },
  "language_info": {
   "codemirror_mode": {
    "name": "ipython",
    "version": 3
   },
   "file_extension": ".py",
   "mimetype": "text/x-python",
   "name": "python",
   "nbconvert_exporter": "python",
   "pygments_lexer": "ipython3",
   "version": "3.7.4"
  }
 },
 "nbformat": 4,
 "nbformat_minor": 2
}
