{
 "cells": [
  {
   "cell_type": "code",
   "execution_count": 1,
   "metadata": {},
   "outputs": [
    {
     "name": "stderr",
     "output_type": "stream",
     "text": [
      "[nltk_data] Downloading package punkt to\n",
      "[nltk_data]     C:\\Users\\zoe_k\\AppData\\Roaming\\nltk_data...\n",
      "[nltk_data]   Package punkt is already up-to-date!\n",
      "[nltk_data] Downloading package wordnet to\n",
      "[nltk_data]     C:\\Users\\zoe_k\\AppData\\Roaming\\nltk_data...\n",
      "[nltk_data]   Package wordnet is already up-to-date!\n",
      "[nltk_data] Downloading package averaged_perceptron_tagger to\n",
      "[nltk_data]     C:\\Users\\zoe_k\\AppData\\Roaming\\nltk_data...\n",
      "[nltk_data]   Package averaged_perceptron_tagger is already up-to-\n",
      "[nltk_data]       date!\n",
      "[nltk_data] Downloading package stopwords to\n",
      "[nltk_data]     C:\\Users\\zoe_k\\AppData\\Roaming\\nltk_data...\n",
      "[nltk_data]   Package stopwords is already up-to-date!\n"
     ]
    }
   ],
   "source": [
    "%matplotlib inline\n",
    "import pandas as pd\n",
    "import numpy as np\n",
    "import matplotlib\n",
    "import utils\n",
    "import importlib\n",
    "importlib.reload(utils)\n",
    "from utils import *\n",
    "import re, string, collections, pickle, os # bcolz\n",
    "from sklearn.model_selection import train_test_split\n",
    "from sklearn.feature_extraction.text import CountVectorizer, TfidfVectorizer\n",
    "from sklearn.linear_model import LogisticRegression\n",
    "from sklearn.decomposition import TruncatedSVD, PCA\n",
    "from sklearn.metrics import confusion_matrix\n",
    "from sklearn.naive_bayes import GaussianNB, MultinomialNB\n",
    "\n",
    "import nltk\n",
    "nltk.download('punkt')\n",
    "nltk.download('wordnet')\n",
    "nltk.download('averaged_perceptron_tagger')\n",
    "nltk.download('stopwords')\n",
    "from nltk.tokenize import sent_tokenize, word_tokenize\n",
    "from nltk.stem import WordNetLemmatizer\n",
    "from nltk.corpus import stopwords"
   ]
  },
  {
   "cell_type": "code",
   "execution_count": 2,
   "metadata": {},
   "outputs": [
    {
     "data": {
      "text/html": [
       "<div>\n",
       "<style scoped>\n",
       "    .dataframe tbody tr th:only-of-type {\n",
       "        vertical-align: middle;\n",
       "    }\n",
       "\n",
       "    .dataframe tbody tr th {\n",
       "        vertical-align: top;\n",
       "    }\n",
       "\n",
       "    .dataframe thead th {\n",
       "        text-align: right;\n",
       "    }\n",
       "</style>\n",
       "<table border=\"1\" class=\"dataframe\">\n",
       "  <thead>\n",
       "    <tr style=\"text-align: right;\">\n",
       "      <th></th>\n",
       "      <th>url</th>\n",
       "      <th>reviewContentTitle</th>\n",
       "      <th>reviewContentText</th>\n",
       "      <th>time</th>\n",
       "      <th>stars</th>\n",
       "      <th>name</th>\n",
       "      <th>numberOfReviews\\r\\r</th>\n",
       "    </tr>\n",
       "  </thead>\n",
       "  <tbody>\n",
       "    <tr>\n",
       "      <td>0</td>\n",
       "      <td>https://nl.trustpilot.com/review/dekbed-discou...</td>\n",
       "      <td>Heerlijke kussens gekocht slaap nu veel…</td>\n",
       "      <td>Heerlijke kussens gekocht slaap nu veel beter ...</td>\n",
       "      <td>{\"publishedDate\":\"2019-01-24T07:52:25Z\",\"updat...</td>\n",
       "      <td>star-rating star-rating-5 star-rating--medium</td>\n",
       "      <td>Jantje rouwkema</td>\n",
       "      <td>1 review\\r\\r</td>\n",
       "    </tr>\n",
       "    <tr>\n",
       "      <td>1</td>\n",
       "      <td>https://nl.trustpilot.com/review/dekbed-discou...</td>\n",
       "      <td>Fijne webshop!</td>\n",
       "      <td>Fijne webshop, snelle verzending en mooie dege...</td>\n",
       "      <td>{\"publishedDate\":\"2019-01-24T07:03:13Z\",\"updat...</td>\n",
       "      <td>star-rating star-rating-5 star-rating--medium</td>\n",
       "      <td>Marielle van Gulik</td>\n",
       "      <td>1 review\\r\\r</td>\n",
       "    </tr>\n",
       "    <tr>\n",
       "      <td>2</td>\n",
       "      <td>https://nl.trustpilot.com/review/dekbed-discou...</td>\n",
       "      <td>Top winkel!</td>\n",
       "      <td>Geweldige winkel! Goede service, goedkoop, goe...</td>\n",
       "      <td>{\"publishedDate\":\"2019-01-24T00:01:38Z\",\"updat...</td>\n",
       "      <td>star-rating star-rating-5 star-rating--medium</td>\n",
       "      <td>Lianne Van Rixel</td>\n",
       "      <td>1 review\\r\\r</td>\n",
       "    </tr>\n",
       "    <tr>\n",
       "      <td>3</td>\n",
       "      <td>https://nl.trustpilot.com/review/dekbed-discou...</td>\n",
       "      <td>Vlotte snelle levering voor een mooie…</td>\n",
       "      <td>Vlotte snelle levering voor een mooie prijs.</td>\n",
       "      <td>{\"publishedDate\":\"2019-01-23T23:39:49Z\",\"updat...</td>\n",
       "      <td>star-rating star-rating-5 star-rating--medium</td>\n",
       "      <td>MAS vanBemmel</td>\n",
       "      <td>1 review\\r\\r</td>\n",
       "    </tr>\n",
       "    <tr>\n",
       "      <td>4</td>\n",
       "      <td>https://nl.trustpilot.com/review/dekbed-discou...</td>\n",
       "      <td>Klantenservice is super, heel coulant bij gere...</td>\n",
       "      <td>Ik ben heel erg tevreden met de klantenservice...</td>\n",
       "      <td>{\"publishedDate\":\"2019-01-23T23:28:38Z\",\"updat...</td>\n",
       "      <td>star-rating star-rating-5 star-rating--medium</td>\n",
       "      <td>Annette Urban</td>\n",
       "      <td>1 review\\r\\r</td>\n",
       "    </tr>\n",
       "  </tbody>\n",
       "</table>\n",
       "</div>"
      ],
      "text/plain": [
       "                                                 url  \\\n",
       "0  https://nl.trustpilot.com/review/dekbed-discou...   \n",
       "1  https://nl.trustpilot.com/review/dekbed-discou...   \n",
       "2  https://nl.trustpilot.com/review/dekbed-discou...   \n",
       "3  https://nl.trustpilot.com/review/dekbed-discou...   \n",
       "4  https://nl.trustpilot.com/review/dekbed-discou...   \n",
       "\n",
       "                                  reviewContentTitle  \\\n",
       "0           Heerlijke kussens gekocht slaap nu veel…   \n",
       "1                                     Fijne webshop!   \n",
       "2                                        Top winkel!   \n",
       "3             Vlotte snelle levering voor een mooie…   \n",
       "4  Klantenservice is super, heel coulant bij gere...   \n",
       "\n",
       "                                   reviewContentText  \\\n",
       "0  Heerlijke kussens gekocht slaap nu veel beter ...   \n",
       "1  Fijne webshop, snelle verzending en mooie dege...   \n",
       "2  Geweldige winkel! Goede service, goedkoop, goe...   \n",
       "3       Vlotte snelle levering voor een mooie prijs.   \n",
       "4  Ik ben heel erg tevreden met de klantenservice...   \n",
       "\n",
       "                                                time  \\\n",
       "0  {\"publishedDate\":\"2019-01-24T07:52:25Z\",\"updat...   \n",
       "1  {\"publishedDate\":\"2019-01-24T07:03:13Z\",\"updat...   \n",
       "2  {\"publishedDate\":\"2019-01-24T00:01:38Z\",\"updat...   \n",
       "3  {\"publishedDate\":\"2019-01-23T23:39:49Z\",\"updat...   \n",
       "4  {\"publishedDate\":\"2019-01-23T23:28:38Z\",\"updat...   \n",
       "\n",
       "                                           stars                name  \\\n",
       "0  star-rating star-rating-5 star-rating--medium     Jantje rouwkema   \n",
       "1  star-rating star-rating-5 star-rating--medium  Marielle van Gulik   \n",
       "2  star-rating star-rating-5 star-rating--medium    Lianne Van Rixel   \n",
       "3  star-rating star-rating-5 star-rating--medium       MAS vanBemmel   \n",
       "4  star-rating star-rating-5 star-rating--medium       Annette Urban   \n",
       "\n",
       "  numberOfReviews\\r\\r  \n",
       "0        1 review\\r\\r  \n",
       "1        1 review\\r\\r  \n",
       "2        1 review\\r\\r  \n",
       "3        1 review\\r\\r  \n",
       "4        1 review\\r\\r  "
      ]
     },
     "execution_count": 2,
     "metadata": {},
     "output_type": "execute_result"
    }
   ],
   "source": [
    "df = pd.read_csv('trustpilot.csv', lineterminator='\\n')\n",
    "df.shape\n",
    "df.head()"
   ]
  },
  {
   "cell_type": "code",
   "execution_count": 3,
   "metadata": {},
   "outputs": [],
   "source": [
    "df['stars'].replace(['star-rating star-rating-5 star-rating--medium'], ['5'], inplace=True)\n",
    "df['stars'].replace(['star-rating star-rating-4 star-rating--medium'], ['4'], inplace=True)\n",
    "df['stars'].replace(['star-rating star-rating-3 star-rating--medium'], ['3'], inplace=True)\n",
    "df['stars'].replace(['star-rating star-rating-2 star-rating--medium'], ['2'], inplace=True)\n",
    "df['stars'].replace(['star-rating star-rating-1 star-rating--medium'], ['1'], inplace=True)\n",
    "df['stars'].replace(['star-rating star-rating-0 star-rating--medium'], ['1'], inplace=True)"
   ]
  },
  {
   "cell_type": "code",
   "execution_count": 4,
   "metadata": {},
   "outputs": [
    {
     "data": {
      "text/html": [
       "<div>\n",
       "<style scoped>\n",
       "    .dataframe tbody tr th:only-of-type {\n",
       "        vertical-align: middle;\n",
       "    }\n",
       "\n",
       "    .dataframe tbody tr th {\n",
       "        vertical-align: top;\n",
       "    }\n",
       "\n",
       "    .dataframe thead th {\n",
       "        text-align: right;\n",
       "    }\n",
       "</style>\n",
       "<table border=\"1\" class=\"dataframe\">\n",
       "  <thead>\n",
       "    <tr style=\"text-align: right;\">\n",
       "      <th></th>\n",
       "      <th>url</th>\n",
       "      <th>reviewContentTitle</th>\n",
       "      <th>reviewContentText</th>\n",
       "      <th>time</th>\n",
       "      <th>stars</th>\n",
       "      <th>name</th>\n",
       "      <th>numberOfReviews\\r\\r</th>\n",
       "    </tr>\n",
       "  </thead>\n",
       "  <tbody>\n",
       "    <tr>\n",
       "      <td>0</td>\n",
       "      <td>https://nl.trustpilot.com/review/dekbed-discou...</td>\n",
       "      <td>Heerlijke kussens gekocht slaap nu veel…</td>\n",
       "      <td>Heerlijke kussens gekocht slaap nu veel beter ...</td>\n",
       "      <td>{\"publishedDate\":\"2019-01-24T07:52:25Z\",\"updat...</td>\n",
       "      <td>5</td>\n",
       "      <td>Jantje rouwkema</td>\n",
       "      <td>1 review\\r\\r</td>\n",
       "    </tr>\n",
       "    <tr>\n",
       "      <td>1</td>\n",
       "      <td>https://nl.trustpilot.com/review/dekbed-discou...</td>\n",
       "      <td>Fijne webshop!</td>\n",
       "      <td>Fijne webshop, snelle verzending en mooie dege...</td>\n",
       "      <td>{\"publishedDate\":\"2019-01-24T07:03:13Z\",\"updat...</td>\n",
       "      <td>5</td>\n",
       "      <td>Marielle van Gulik</td>\n",
       "      <td>1 review\\r\\r</td>\n",
       "    </tr>\n",
       "    <tr>\n",
       "      <td>2</td>\n",
       "      <td>https://nl.trustpilot.com/review/dekbed-discou...</td>\n",
       "      <td>Top winkel!</td>\n",
       "      <td>Geweldige winkel! Goede service, goedkoop, goe...</td>\n",
       "      <td>{\"publishedDate\":\"2019-01-24T00:01:38Z\",\"updat...</td>\n",
       "      <td>5</td>\n",
       "      <td>Lianne Van Rixel</td>\n",
       "      <td>1 review\\r\\r</td>\n",
       "    </tr>\n",
       "    <tr>\n",
       "      <td>3</td>\n",
       "      <td>https://nl.trustpilot.com/review/dekbed-discou...</td>\n",
       "      <td>Vlotte snelle levering voor een mooie…</td>\n",
       "      <td>Vlotte snelle levering voor een mooie prijs.</td>\n",
       "      <td>{\"publishedDate\":\"2019-01-23T23:39:49Z\",\"updat...</td>\n",
       "      <td>5</td>\n",
       "      <td>MAS vanBemmel</td>\n",
       "      <td>1 review\\r\\r</td>\n",
       "    </tr>\n",
       "    <tr>\n",
       "      <td>4</td>\n",
       "      <td>https://nl.trustpilot.com/review/dekbed-discou...</td>\n",
       "      <td>Klantenservice is super, heel coulant bij gere...</td>\n",
       "      <td>Ik ben heel erg tevreden met de klantenservice...</td>\n",
       "      <td>{\"publishedDate\":\"2019-01-23T23:28:38Z\",\"updat...</td>\n",
       "      <td>5</td>\n",
       "      <td>Annette Urban</td>\n",
       "      <td>1 review\\r\\r</td>\n",
       "    </tr>\n",
       "  </tbody>\n",
       "</table>\n",
       "</div>"
      ],
      "text/plain": [
       "                                                 url  \\\n",
       "0  https://nl.trustpilot.com/review/dekbed-discou...   \n",
       "1  https://nl.trustpilot.com/review/dekbed-discou...   \n",
       "2  https://nl.trustpilot.com/review/dekbed-discou...   \n",
       "3  https://nl.trustpilot.com/review/dekbed-discou...   \n",
       "4  https://nl.trustpilot.com/review/dekbed-discou...   \n",
       "\n",
       "                                  reviewContentTitle  \\\n",
       "0           Heerlijke kussens gekocht slaap nu veel…   \n",
       "1                                     Fijne webshop!   \n",
       "2                                        Top winkel!   \n",
       "3             Vlotte snelle levering voor een mooie…   \n",
       "4  Klantenservice is super, heel coulant bij gere...   \n",
       "\n",
       "                                   reviewContentText  \\\n",
       "0  Heerlijke kussens gekocht slaap nu veel beter ...   \n",
       "1  Fijne webshop, snelle verzending en mooie dege...   \n",
       "2  Geweldige winkel! Goede service, goedkoop, goe...   \n",
       "3       Vlotte snelle levering voor een mooie prijs.   \n",
       "4  Ik ben heel erg tevreden met de klantenservice...   \n",
       "\n",
       "                                                time stars  \\\n",
       "0  {\"publishedDate\":\"2019-01-24T07:52:25Z\",\"updat...     5   \n",
       "1  {\"publishedDate\":\"2019-01-24T07:03:13Z\",\"updat...     5   \n",
       "2  {\"publishedDate\":\"2019-01-24T00:01:38Z\",\"updat...     5   \n",
       "3  {\"publishedDate\":\"2019-01-23T23:39:49Z\",\"updat...     5   \n",
       "4  {\"publishedDate\":\"2019-01-23T23:28:38Z\",\"updat...     5   \n",
       "\n",
       "                 name numberOfReviews\\r\\r  \n",
       "0     Jantje rouwkema        1 review\\r\\r  \n",
       "1  Marielle van Gulik        1 review\\r\\r  \n",
       "2    Lianne Van Rixel        1 review\\r\\r  \n",
       "3       MAS vanBemmel        1 review\\r\\r  \n",
       "4       Annette Urban        1 review\\r\\r  "
      ]
     },
     "execution_count": 4,
     "metadata": {},
     "output_type": "execute_result"
    }
   ],
   "source": [
    "df.head()"
   ]
  },
  {
   "cell_type": "code",
   "execution_count": 5,
   "metadata": {},
   "outputs": [
    {
     "data": {
      "text/plain": [
       "Index(['url', 'reviewContentTitle', 'reviewContentText', 'time', 'stars',\n",
       "       'name', 'numberOfReviews\\r\\r'],\n",
       "      dtype='object')"
      ]
     },
     "execution_count": 5,
     "metadata": {},
     "output_type": "execute_result"
    }
   ],
   "source": [
    "df.columns"
   ]
  },
  {
   "cell_type": "code",
   "execution_count": 6,
   "metadata": {},
   "outputs": [],
   "source": [
    "df=df.rename(columns = {'reviewContentTitle':'Review_Title', 'reviewContentText':'text', 'numberOfReviews\\r\\r':'Number_of_Reviews'})"
   ]
  },
  {
   "cell_type": "code",
   "execution_count": 7,
   "metadata": {},
   "outputs": [],
   "source": [
    "df.drop(['url','Review_Title', 'time', 'name', 'Number_of_Reviews'], axis=1, inplace=True)"
   ]
  },
  {
   "cell_type": "code",
   "execution_count": 8,
   "metadata": {},
   "outputs": [
    {
     "data": {
      "text/html": [
       "<div>\n",
       "<style scoped>\n",
       "    .dataframe tbody tr th:only-of-type {\n",
       "        vertical-align: middle;\n",
       "    }\n",
       "\n",
       "    .dataframe tbody tr th {\n",
       "        vertical-align: top;\n",
       "    }\n",
       "\n",
       "    .dataframe thead th {\n",
       "        text-align: right;\n",
       "    }\n",
       "</style>\n",
       "<table border=\"1\" class=\"dataframe\">\n",
       "  <thead>\n",
       "    <tr style=\"text-align: right;\">\n",
       "      <th></th>\n",
       "      <th>text</th>\n",
       "      <th>stars</th>\n",
       "    </tr>\n",
       "  </thead>\n",
       "  <tbody>\n",
       "    <tr>\n",
       "      <td>0</td>\n",
       "      <td>Heerlijke kussens gekocht slaap nu veel beter ...</td>\n",
       "      <td>5</td>\n",
       "    </tr>\n",
       "    <tr>\n",
       "      <td>1</td>\n",
       "      <td>Fijne webshop, snelle verzending en mooie dege...</td>\n",
       "      <td>5</td>\n",
       "    </tr>\n",
       "    <tr>\n",
       "      <td>2</td>\n",
       "      <td>Geweldige winkel! Goede service, goedkoop, goe...</td>\n",
       "      <td>5</td>\n",
       "    </tr>\n",
       "    <tr>\n",
       "      <td>3</td>\n",
       "      <td>Vlotte snelle levering voor een mooie prijs.</td>\n",
       "      <td>5</td>\n",
       "    </tr>\n",
       "    <tr>\n",
       "      <td>4</td>\n",
       "      <td>Ik ben heel erg tevreden met de klantenservice...</td>\n",
       "      <td>5</td>\n",
       "    </tr>\n",
       "  </tbody>\n",
       "</table>\n",
       "</div>"
      ],
      "text/plain": [
       "                                                text stars\n",
       "0  Heerlijke kussens gekocht slaap nu veel beter ...     5\n",
       "1  Fijne webshop, snelle verzending en mooie dege...     5\n",
       "2  Geweldige winkel! Goede service, goedkoop, goe...     5\n",
       "3       Vlotte snelle levering voor een mooie prijs.     5\n",
       "4  Ik ben heel erg tevreden met de klantenservice...     5"
      ]
     },
     "execution_count": 8,
     "metadata": {},
     "output_type": "execute_result"
    }
   ],
   "source": [
    "df.head()"
   ]
  },
  {
   "cell_type": "markdown",
   "metadata": {},
   "source": [
    "# Filter negative & positive reviews"
   ]
  },
  {
   "cell_type": "code",
   "execution_count": 9,
   "metadata": {},
   "outputs": [
    {
     "data": {
      "text/plain": [
       "text     object\n",
       "stars    object\n",
       "dtype: object"
      ]
     },
     "execution_count": 9,
     "metadata": {},
     "output_type": "execute_result"
    }
   ],
   "source": [
    "df.dtypes"
   ]
  },
  {
   "cell_type": "code",
   "execution_count": 10,
   "metadata": {},
   "outputs": [],
   "source": [
    "df['stars']=df.stars.astype(int)\n",
    "df['text']=df.text.astype(str)"
   ]
  },
  {
   "cell_type": "code",
   "execution_count": 11,
   "metadata": {},
   "outputs": [
    {
     "data": {
      "text/plain": [
       "text     object\n",
       "stars     int32\n",
       "dtype: object"
      ]
     },
     "execution_count": 11,
     "metadata": {},
     "output_type": "execute_result"
    }
   ],
   "source": [
    "df.dtypes"
   ]
  },
  {
   "cell_type": "markdown",
   "metadata": {},
   "source": [
    "# Filter negative & positive reviews"
   ]
  },
  {
   "cell_type": "code",
   "execution_count": 12,
   "metadata": {},
   "outputs": [
    {
     "name": "stdout",
     "output_type": "stream",
     "text": [
      "495477 41224\n"
     ]
    }
   ],
   "source": [
    "pos = df.loc[df['stars'] > 4, 'text'].copy().reset_index(drop=True)\n",
    "neg = df.loc[df['stars'] < 3, 'text'].copy().reset_index(drop=True)\n",
    "print(len(pos), len(neg))"
   ]
  },
  {
   "cell_type": "code",
   "execution_count": 13,
   "metadata": {},
   "outputs": [
    {
     "name": "stdout",
     "output_type": "stream",
     "text": [
      "Makkelijk besteld en snel geleverd. Helemaal tevreden!\n"
     ]
    }
   ],
   "source": [
    "# Positive examples\n",
    "print(''.join(pos[np.random.randint(0, len(pos))]))"
   ]
  },
  {
   "cell_type": "code",
   "execution_count": 14,
   "metadata": {},
   "outputs": [
    {
     "name": "stdout",
     "output_type": "stream",
     "text": [
      "Zeer slechte service. Mijn bestelling is niet geleverd en dit probleem wordt niet opgelost. Uiteraard zal ik bol.com niet aanbevelen.\n"
     ]
    }
   ],
   "source": [
    "# Negative examples\n",
    "print(''.join(neg[np.random.randint(0, len(neg))]))"
   ]
  },
  {
   "cell_type": "markdown",
   "metadata": {},
   "source": [
    "# Add class labels: 0 for negative reviews, 1 for positive reviews"
   ]
  },
  {
   "cell_type": "code",
   "execution_count": 15,
   "metadata": {},
   "outputs": [],
   "source": [
    "neg = pd.concat([pd.DataFrame(neg), pd.DataFrame(np.zeros(neg.shape), columns=['class'])], 1)\n",
    "pos = pd.concat([pd.DataFrame(pos), pd.DataFrame(np.ones(pos.shape), columns=['class'])], 1)"
   ]
  },
  {
   "cell_type": "markdown",
   "metadata": {},
   "source": [
    "# Make homogeneous review length"
   ]
  },
  {
   "cell_type": "code",
   "execution_count": 16,
   "metadata": {},
   "outputs": [
    {
     "name": "stdout",
     "output_type": "stream",
     "text": [
      "480.2441538909373 545.0986816871941 11326\n"
     ]
    },
    {
     "data": {
      "text/plain": [
       "<matplotlib.axes._subplots.AxesSubplot at 0x2a7cf33cf88>"
      ]
     },
     "execution_count": 16,
     "metadata": {},
     "output_type": "execute_result"
    },
    {
     "data": {
      "image/png": "[encoded data removed]",
      "text/plain": [
       "<Figure size 576x288 with 1 Axes>"
      ]
     },
     "metadata": {
      "needs_background": "light"
     },
     "output_type": "display_data"
    }
   ],
   "source": [
    "# Mean, standard deviation and max length (no. of characters)\n",
    "# Negative reviews\n",
    "lens = neg['text'].str.len()\n",
    "print(lens.mean(), lens.std(), lens.max())\n",
    "lens.hist(figsize=(8, 4), bins=25)"
   ]
  },
  {
   "cell_type": "code",
   "execution_count": 17,
   "metadata": {},
   "outputs": [
    {
     "name": "stdout",
     "output_type": "stream",
     "text": [
      "121.2036239825461 128.50196120229057 9926\n"
     ]
    },
    {
     "data": {
      "text/plain": [
       "<matplotlib.axes._subplots.AxesSubplot at 0x2a7cf582d08>"
      ]
     },
     "execution_count": 17,
     "metadata": {},
     "output_type": "execute_result"
    },
    {
     "data": {
      "image/png": "[encoded data removed]",
      "text/plain": [
       "<Figure size 576x288 with 1 Axes>"
      ]
     },
     "metadata": {
      "needs_background": "light"
     },
     "output_type": "display_data"
    }
   ],
   "source": [
    "# Positive reviews\n",
    "lens = pos['text'].str.len()\n",
    "print(lens.mean(), lens.std(), lens.max())\n",
    "lens.hist(figsize=(8, 4), bins=25)"
   ]
  },
  {
   "cell_type": "code",
   "execution_count": 18,
   "metadata": {},
   "outputs": [],
   "source": [
    "# Reviews with more than 5000 characters are dropped\n",
    "# Negative reviews\n",
    "long_reviews = neg.loc[neg['text'].str.len() > 5000].index\n",
    "neg.drop(long_reviews, inplace=True)\n",
    "# Positive reviews\n",
    "long_reviews = pos.loc[pos['text'].str.len() > 5000].index\n",
    "pos.drop(long_reviews, inplace=True)"
   ]
  },
  {
   "cell_type": "markdown",
   "metadata": {},
   "source": [
    "# Balance class sizes"
   ]
  },
  {
   "cell_type": "code",
   "execution_count": 19,
   "metadata": {},
   "outputs": [
    {
     "name": "stdout",
     "output_type": "stream",
     "text": [
      "(41173, 2) (41173, 2)\n"
     ]
    }
   ],
   "source": [
    "np.random.seed(42)\n",
    "rand = np.random.permutation(pos.shape[0])\n",
    "pos = pos.iloc[rand[:neg.shape[0]]].reset_index(drop=True)\n",
    "print(neg.shape, pos.shape)"
   ]
  },
  {
   "cell_type": "code",
   "execution_count": 20,
   "metadata": {},
   "outputs": [],
   "source": [
    "#!# We educe the dataset further so that it computes faster\n",
    "#1# Better models may require the full dataset\n",
    "np.random.seed(42)\n",
    "rand = np.random.permutation(pos.shape[0])\n",
    "pos = pos.iloc[rand[:10000]].reset_index(drop=True)\n",
    "rand = np.random.permutation(neg.shape[0])\n",
    "neg = neg.iloc[rand[:10000]].reset_index(drop=True)"
   ]
  },
  {
   "cell_type": "code",
   "execution_count": 21,
   "metadata": {},
   "outputs": [
    {
     "name": "stdout",
     "output_type": "stream",
     "text": [
      "(20000, 2)\n"
     ]
    },
    {
     "data": {
      "text/html": [
       "<div>\n",
       "<style scoped>\n",
       "    .dataframe tbody tr th:only-of-type {\n",
       "        vertical-align: middle;\n",
       "    }\n",
       "\n",
       "    .dataframe tbody tr th {\n",
       "        vertical-align: top;\n",
       "    }\n",
       "\n",
       "    .dataframe thead th {\n",
       "        text-align: right;\n",
       "    }\n",
       "</style>\n",
       "<table border=\"1\" class=\"dataframe\">\n",
       "  <thead>\n",
       "    <tr style=\"text-align: right;\">\n",
       "      <th></th>\n",
       "      <th>text</th>\n",
       "      <th>class</th>\n",
       "    </tr>\n",
       "  </thead>\n",
       "  <tbody>\n",
       "    <tr>\n",
       "      <td>0</td>\n",
       "      <td>heb erg lang moeten wachten voordat me bestell...</td>\n",
       "      <td>0.0</td>\n",
       "    </tr>\n",
       "    <tr>\n",
       "      <td>1</td>\n",
       "      <td>Goede ervaring</td>\n",
       "      <td>1.0</td>\n",
       "    </tr>\n",
       "    <tr>\n",
       "      <td>2</td>\n",
       "      <td>Ik kies elke keer toch weer Albelli voor mijn ...</td>\n",
       "      <td>1.0</td>\n",
       "    </tr>\n",
       "    <tr>\n",
       "      <td>3</td>\n",
       "      <td>Decided to change colour of the chairs I'd ord...</td>\n",
       "      <td>1.0</td>\n",
       "    </tr>\n",
       "    <tr>\n",
       "      <td>4</td>\n",
       "      <td>1 pagina zat in het midden aan elkaar geplakt....</td>\n",
       "      <td>0.0</td>\n",
       "    </tr>\n",
       "  </tbody>\n",
       "</table>\n",
       "</div>"
      ],
      "text/plain": [
       "                                                text  class\n",
       "0  heb erg lang moeten wachten voordat me bestell...    0.0\n",
       "1                                     Goede ervaring    1.0\n",
       "2  Ik kies elke keer toch weer Albelli voor mijn ...    1.0\n",
       "3  Decided to change colour of the chairs I'd ord...    1.0\n",
       "4  1 pagina zat in het midden aan elkaar geplakt....    0.0"
      ]
     },
     "execution_count": 21,
     "metadata": {},
     "output_type": "execute_result"
    }
   ],
   "source": [
    "# We merge the positive and negative reviews, and suffle the rows\n",
    "df = pd.concat([pos, neg]).sample(frac=1, random_state=42).reset_index(drop=True)\n",
    "print(df.shape)\n",
    "df.head()"
   ]
  },
  {
   "cell_type": "markdown",
   "metadata": {},
   "source": [
    "# Tokenize & Lemmatize (extract clean words)"
   ]
  },
  {
   "cell_type": "code",
   "execution_count": 22,
   "metadata": {},
   "outputs": [],
   "source": [
    "# Replacing carriage returns \\r\n",
    "df['text'] = df['text'].str.replace('\\r',' ')"
   ]
  },
  {
   "cell_type": "code",
   "execution_count": 23,
   "metadata": {},
   "outputs": [
    {
     "name": "stderr",
     "output_type": "stream",
     "text": [
      "C:\\Users\\zoe_k\\Anaconda3\\lib\\site-packages\\ipykernel_launcher.py:9: SettingWithCopyWarning: \n",
      "A value is trying to be set on a copy of a slice from a DataFrame\n",
      "\n",
      "See the caveats in the documentation: http://pandas.pydata.org/pandas-docs/stable/user_guide/indexing.html#returning-a-view-versus-a-copy\n",
      "  if __name__ == '__main__':\n"
     ]
    }
   ],
   "source": [
    "stop_words = set(stopwords.words('english'))\n",
    "lemmatizer = WordNetLemmatizer()\n",
    "\n",
    "for i in range(df.shape[0]):\n",
    "    clean_tokens = ''\n",
    "    for w in word_tokenize(df.loc[:, ('text')][i]):\n",
    "        if w not in stop_words:\n",
    "            clean_tokens = clean_tokens + ' ' + lemmatizer.lemmatize(w)\n",
    "    df['text'][i] = clean_tokens.translate(str.maketrans('', '', string.punctuation))"
   ]
  },
  {
   "cell_type": "code",
   "execution_count": 24,
   "metadata": {},
   "outputs": [
    {
     "data": {
      "text/html": [
       "<div>\n",
       "<style scoped>\n",
       "    .dataframe tbody tr th:only-of-type {\n",
       "        vertical-align: middle;\n",
       "    }\n",
       "\n",
       "    .dataframe tbody tr th {\n",
       "        vertical-align: top;\n",
       "    }\n",
       "\n",
       "    .dataframe thead th {\n",
       "        text-align: right;\n",
       "    }\n",
       "</style>\n",
       "<table border=\"1\" class=\"dataframe\">\n",
       "  <thead>\n",
       "    <tr style=\"text-align: right;\">\n",
       "      <th></th>\n",
       "      <th>text</th>\n",
       "      <th>class</th>\n",
       "    </tr>\n",
       "  </thead>\n",
       "  <tbody>\n",
       "    <tr>\n",
       "      <td>0</td>\n",
       "      <td>heb erg lang moeten wachten voordat bestellin...</td>\n",
       "      <td>0.0</td>\n",
       "    </tr>\n",
       "    <tr>\n",
       "      <td>1</td>\n",
       "      <td>Goede ervaring</td>\n",
       "      <td>1.0</td>\n",
       "    </tr>\n",
       "    <tr>\n",
       "      <td>2</td>\n",
       "      <td>Ik ky elke keer toch weer Albelli voor mijn f...</td>\n",
       "      <td>1.0</td>\n",
       "    </tr>\n",
       "    <tr>\n",
       "      <td>3</td>\n",
       "      <td>Decided change colour chair I d ordered  No p...</td>\n",
       "      <td>1.0</td>\n",
       "    </tr>\n",
       "    <tr>\n",
       "      <td>4</td>\n",
       "      <td>1 pagina zat het midden aan elkaar geplakt  B...</td>\n",
       "      <td>0.0</td>\n",
       "    </tr>\n",
       "  </tbody>\n",
       "</table>\n",
       "</div>"
      ],
      "text/plain": [
       "                                                text  class\n",
       "0   heb erg lang moeten wachten voordat bestellin...    0.0\n",
       "1                                     Goede ervaring    1.0\n",
       "2   Ik ky elke keer toch weer Albelli voor mijn f...    1.0\n",
       "3   Decided change colour chair I d ordered  No p...    1.0\n",
       "4   1 pagina zat het midden aan elkaar geplakt  B...    0.0"
      ]
     },
     "execution_count": 24,
     "metadata": {},
     "output_type": "execute_result"
    }
   ],
   "source": [
    "df.head()"
   ]
  },
  {
   "cell_type": "markdown",
   "metadata": {},
   "source": [
    "# Use Part-of-Speech (pos) to Lemmatize"
   ]
  },
  {
   "cell_type": "code",
   "execution_count": 25,
   "metadata": {},
   "outputs": [
    {
     "name": "stdout",
     "output_type": "stream",
     "text": [
      "[('Goede', 'NNP'), ('ervaring', 'VBG')]\n"
     ]
    }
   ],
   "source": [
    "print(nltk.pos_tag(word_tokenize(df['text'][1])))"
   ]
  },
  {
   "cell_type": "code",
   "execution_count": 26,
   "metadata": {},
   "outputs": [],
   "source": [
    "# https://www.machinelearningplus.com/nlp/lemmatization-examples-python/\n",
    "from nltk.corpus import wordnet\n",
    "def get_wordnet_pos(word):\n",
    "    \"\"\"Map POS tag to first character lemmatize() accepts\"\"\"\n",
    "    tag = nltk.pos_tag([word])[0][1][0].upper()\n",
    "    tag_dict = {\"J\": wordnet.ADJ,\n",
    "                \"N\": wordnet.NOUN,\n",
    "                \"V\": wordnet.VERB,\n",
    "                \"R\": wordnet.ADV}\n",
    "\n",
    "    return tag_dict.get(tag, wordnet.NOUN)"
   ]
  },
  {
   "cell_type": "code",
   "execution_count": 27,
   "metadata": {},
   "outputs": [
    {
     "name": "stdout",
     "output_type": "stream",
     "text": [
      " heb erg lang moeten wachten voordat bestelling binnen stond binnen 23 werkdagen maar werd 2 weken😥\n",
      "['heb', 'erg', 'lang', 'moeten', 'wachten', 'voordat', 'bestelling', 'binnen', 'stond', 'binnen', '23', 'werkdagen', 'maar', 'werd', '2', 'weken😥']\n",
      "\n",
      "\n",
      " Goede ervaring\n",
      "['Goede', 'ervaring']\n",
      "\n",
      "\n",
      " Ik ky elke keer toch weer Albelli voor mijn fotoboeken en foto op linnenIk betaal liever iets meer mocht ik niet tevreden zijn dan geeft Albelli de 100  tevredenheidgarantieMaar ben tot nu toe elke keer dik tevreden de productenAlleen de bezorging van het product door GLS ik de afgelopen keer niet tevreden maar heb zowel contact gehad met GLS en Albelli en alsnog goed gekomen \n",
      "['Ik', 'ky', 'elke', 'keer', 'toch', 'weer', 'Albelli', 'voor', 'mijn', 'fotoboeken', 'en', 'foto', 'op', 'linnenIk', 'betaal', 'liever', 'iets', 'meer', 'mocht', 'ik', 'niet', 'tevreden', 'zijn', 'dan', 'geeft', 'Albelli', 'de', '100', 'tevredenheidgarantieMaar', 'ben', 'tot', 'nu', 'toe', 'elke', 'keer', 'dik', 'tevreden', 'de', 'productenAlleen', 'de', 'bezorging', 'van', 'het', 'product', 'door', 'GLS', 'ik', 'de', 'afgelopen', 'keer', 'niet', 'tevreden', 'maar', 'heb', 'zowel', 'contact', 'gehad', 'met', 'GLS', 'en', 'Albelli', 'en', 'alsnog', 'goed', 'gekomen']\n",
      "\n",
      "\n"
     ]
    }
   ],
   "source": [
    "for i in range(3):\n",
    "    print(df['text'][i])\n",
    "    print([lemmatizer.lemmatize(w, get_wordnet_pos(w)) for w in word_tokenize(df['text'][i])])\n",
    "    print('\\n')"
   ]
  },
  {
   "cell_type": "code",
   "execution_count": 28,
   "metadata": {},
   "outputs": [],
   "source": [
    "def get_clean_token(txt):\n",
    "    return [lemmatizer.lemmatize(w, get_wordnet_pos(w)) for w in word_tokenize(txt)]\n",
    "\n",
    "vect = CountVectorizer(tokenizer=get_clean_token)"
   ]
  },
  {
   "cell_type": "markdown",
   "metadata": {},
   "source": [
    "# Split and tokenize"
   ]
  },
  {
   "cell_type": "code",
   "execution_count": 29,
   "metadata": {},
   "outputs": [],
   "source": [
    "X_train, X_test, y_train, y_test = train_test_split(df['text'].values, df['class'].values, test_size=0.2, random_state=42)"
   ]
  },
  {
   "cell_type": "code",
   "execution_count": null,
   "metadata": {},
   "outputs": [],
   "source": []
  }
 ],
 "metadata": {
  "kernelspec": {
   "display_name": "Python 3",
   "language": "python",
   "name": "python3"
  },
  "language_info": {
   "codemirror_mode": {
    "name": "ipython",
    "version": 3
   },
   "file_extension": ".py",
   "mimetype": "text/x-python",
   "name": "python",
   "nbconvert_exporter": "python",
   "pygments_lexer": "ipython3",
   "version": "3.7.4"
  }
 },
 "nbformat": 4,
 "nbformat_minor": 2
}
