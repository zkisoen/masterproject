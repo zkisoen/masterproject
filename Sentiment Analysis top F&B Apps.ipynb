{
 "cells": [
  {
   "cell_type": "code",
   "execution_count": 4,
   "metadata": {},
   "outputs": [],
   "source": [
    "import pandas as pd\n",
    "import numpy as np\n",
    "%matplotlib inline\n",
    "import matplotlib\n",
    "import utils\n",
    "import importlib\n",
    "importlib.reload(utils)\n",
    "from utils import *\n",
    "import re, string, collections, pickle, os # bcolz\n",
    "from sklearn.model_selection import train_test_split\n",
    "from sklearn.feature_extraction.text import CountVectorizer, TfidfVectorizer\n",
    "from sklearn.linear_model import LogisticRegression\n",
    "from sklearn.decomposition import TruncatedSVD, PCA\n",
    "from sklearn.metrics import confusion_matrix\n",
    "from sklearn.naive_bayes import GaussianNB, MultinomialNB\n",
    "\n",
    "import nltk\n",
    "# nltk.download('punkt')\n",
    "# nltk.download('wordnet')\n",
    "# nltk.download('averaged_perceptron_tagger')\n",
    "# nltk.download('stopwords')\n",
    "from nltk.tokenize import sent_tokenize, word_tokenize\n",
    "from nltk.stem import WordNetLemmatizer\n",
    "from nltk.corpus import stopwords"
   ]
  },
  {
   "cell_type": "code",
   "execution_count": 5,
   "metadata": {},
   "outputs": [
    {
     "data": {
      "text/html": [
       "<div>\n",
       "<style scoped>\n",
       "    .dataframe tbody tr th:only-of-type {\n",
       "        vertical-align: middle;\n",
       "    }\n",
       "\n",
       "    .dataframe tbody tr th {\n",
       "        vertical-align: top;\n",
       "    }\n",
       "\n",
       "    .dataframe thead th {\n",
       "        text-align: right;\n",
       "    }\n",
       "</style>\n",
       "<table border=\"1\" class=\"dataframe\">\n",
       "  <thead>\n",
       "    <tr style=\"text-align: right;\">\n",
       "      <th></th>\n",
       "      <th>reviewId</th>\n",
       "      <th>userName</th>\n",
       "      <th>userImage</th>\n",
       "      <th>content</th>\n",
       "      <th>score</th>\n",
       "      <th>thumbsUpCount</th>\n",
       "      <th>reviewCreatedVersion</th>\n",
       "      <th>at</th>\n",
       "      <th>replyContent</th>\n",
       "      <th>repliedAt</th>\n",
       "      <th>sortOrder</th>\n",
       "      <th>appId\\r</th>\n",
       "    </tr>\n",
       "  </thead>\n",
       "  <tbody>\n",
       "    <tr>\n",
       "      <th>0</th>\n",
       "      <td>gp:AOqpTOGt2KEhc-yNMmOBsXqfHKLGJ-vDENQPVPlGZIM...</td>\n",
       "      <td>Earl Clark</td>\n",
       "      <td>https://lh3.googleusercontent.com/a-/AOh14Gj_X...</td>\n",
       "      <td>This is an expensive app. That being said, it'...</td>\n",
       "      <td>1</td>\n",
       "      <td>28</td>\n",
       "      <td>5.0.0.11</td>\n",
       "      <td>2020-05-16 17:23:38</td>\n",
       "      <td>We are not aware of any issues with editing ta...</td>\n",
       "      <td>2020-05-17 12:06:29</td>\n",
       "      <td>most_relevant</td>\n",
       "      <td>com.anydo\\r</td>\n",
       "    </tr>\n",
       "    <tr>\n",
       "      <th>1</th>\n",
       "      <td>gp:AOqpTOFnIu5LAl0bREEIRnyqUs95zFeDP4kQ-eY638E...</td>\n",
       "      <td>Elad Posner</td>\n",
       "      <td>https://lh3.googleusercontent.com/a-/AOh14Ghzk...</td>\n",
       "      <td>Something is wrong with the last version. Sinc...</td>\n",
       "      <td>1</td>\n",
       "      <td>80</td>\n",
       "      <td>5.0.0.11</td>\n",
       "      <td>2020-05-08 13:48:18</td>\n",
       "      <td>Sorry about that. Please uninstall and reinsta...</td>\n",
       "      <td>2020-05-10 11:25:36</td>\n",
       "      <td>most_relevant</td>\n",
       "      <td>com.anydo\\r</td>\n",
       "    </tr>\n",
       "    <tr>\n",
       "      <th>2</th>\n",
       "      <td>gp:AOqpTOE4go3obyJs27PrDvsA_mPKmlYD_muUNj3NHNA...</td>\n",
       "      <td>Checaii Garcia</td>\n",
       "      <td>https://lh3.googleusercontent.com/a-/AOh14GiQ8...</td>\n",
       "      <td>I wanted to try the app but it never opens. I ...</td>\n",
       "      <td>1</td>\n",
       "      <td>23</td>\n",
       "      <td>5.0.0.11</td>\n",
       "      <td>2020-05-08 10:26:34</td>\n",
       "      <td>Sorry about that! Please feel free to contact ...</td>\n",
       "      <td>2020-05-10 11:20:14</td>\n",
       "      <td>most_relevant</td>\n",
       "      <td>com.anydo\\r</td>\n",
       "    </tr>\n",
       "    <tr>\n",
       "      <th>3</th>\n",
       "      <td>gp:AOqpTOF3Kb-6IdEeeYLcuUncmzjQdtNguLU5GTshqNY...</td>\n",
       "      <td>A Traveller</td>\n",
       "      <td>https://lh3.googleusercontent.com/-yutN8c-KH6U...</td>\n",
       "      <td>This app is a prime example of building a moun...</td>\n",
       "      <td>1</td>\n",
       "      <td>14</td>\n",
       "      <td>5.0.0.11</td>\n",
       "      <td>2020-05-09 19:20:56</td>\n",
       "      <td>If you're having trouble figuring out how to t...</td>\n",
       "      <td>2020-05-12 10:22:05</td>\n",
       "      <td>most_relevant</td>\n",
       "      <td>com.anydo\\r</td>\n",
       "    </tr>\n",
       "    <tr>\n",
       "      <th>4</th>\n",
       "      <td>gp:AOqpTOEcQLSS_guCIsZflL1BJmk6h6WHCVNSFO_OI1N...</td>\n",
       "      <td>Kenneth Ho</td>\n",
       "      <td>https://lh3.googleusercontent.com/a-/AOh14GitU...</td>\n",
       "      <td>I have been using it since 2018 and am current...</td>\n",
       "      <td>1</td>\n",
       "      <td>12</td>\n",
       "      <td>5.0.0.11</td>\n",
       "      <td>2020-05-08 21:56:31</td>\n",
       "      <td>Hi, please note that we detected a slight issu...</td>\n",
       "      <td>2020-05-10 11:57:17</td>\n",
       "      <td>most_relevant</td>\n",
       "      <td>com.anydo\\r</td>\n",
       "    </tr>\n",
       "  </tbody>\n",
       "</table>\n",
       "</div>"
      ],
      "text/plain": [
       "                                            reviewId        userName  \\\n",
       "0  gp:AOqpTOGt2KEhc-yNMmOBsXqfHKLGJ-vDENQPVPlGZIM...      Earl Clark   \n",
       "1  gp:AOqpTOFnIu5LAl0bREEIRnyqUs95zFeDP4kQ-eY638E...     Elad Posner   \n",
       "2  gp:AOqpTOE4go3obyJs27PrDvsA_mPKmlYD_muUNj3NHNA...  Checaii Garcia   \n",
       "3  gp:AOqpTOF3Kb-6IdEeeYLcuUncmzjQdtNguLU5GTshqNY...     A Traveller   \n",
       "4  gp:AOqpTOEcQLSS_guCIsZflL1BJmk6h6WHCVNSFO_OI1N...      Kenneth Ho   \n",
       "\n",
       "                                           userImage  \\\n",
       "0  https://lh3.googleusercontent.com/a-/AOh14Gj_X...   \n",
       "1  https://lh3.googleusercontent.com/a-/AOh14Ghzk...   \n",
       "2  https://lh3.googleusercontent.com/a-/AOh14GiQ8...   \n",
       "3  https://lh3.googleusercontent.com/-yutN8c-KH6U...   \n",
       "4  https://lh3.googleusercontent.com/a-/AOh14GitU...   \n",
       "\n",
       "                                             content  score  thumbsUpCount  \\\n",
       "0  This is an expensive app. That being said, it'...      1             28   \n",
       "1  Something is wrong with the last version. Sinc...      1             80   \n",
       "2  I wanted to try the app but it never opens. I ...      1             23   \n",
       "3  This app is a prime example of building a moun...      1             14   \n",
       "4  I have been using it since 2018 and am current...      1             12   \n",
       "\n",
       "  reviewCreatedVersion                   at  \\\n",
       "0             5.0.0.11  2020-05-16 17:23:38   \n",
       "1             5.0.0.11  2020-05-08 13:48:18   \n",
       "2             5.0.0.11  2020-05-08 10:26:34   \n",
       "3             5.0.0.11  2020-05-09 19:20:56   \n",
       "4             5.0.0.11  2020-05-08 21:56:31   \n",
       "\n",
       "                                        replyContent            repliedAt  \\\n",
       "0  We are not aware of any issues with editing ta...  2020-05-17 12:06:29   \n",
       "1  Sorry about that. Please uninstall and reinsta...  2020-05-10 11:25:36   \n",
       "2  Sorry about that! Please feel free to contact ...  2020-05-10 11:20:14   \n",
       "3  If you're having trouble figuring out how to t...  2020-05-12 10:22:05   \n",
       "4  Hi, please note that we detected a slight issu...  2020-05-10 11:57:17   \n",
       "\n",
       "       sortOrder      appId\\r  \n",
       "0  most_relevant  com.anydo\\r  \n",
       "1  most_relevant  com.anydo\\r  \n",
       "2  most_relevant  com.anydo\\r  \n",
       "3  most_relevant  com.anydo\\r  \n",
       "4  most_relevant  com.anydo\\r  "
      ]
     },
     "execution_count": 5,
     "metadata": {},
     "output_type": "execute_result"
    }
   ],
   "source": [
    "df = pd.read_csv('reviews.csv', lineterminator='\\n')\n",
    "df.shape\n",
    "df.head()"
   ]
  },
  {
   "cell_type": "code",
   "execution_count": 6,
   "metadata": {},
   "outputs": [
    {
     "data": {
      "text/html": [
       "<div>\n",
       "<style scoped>\n",
       "    .dataframe tbody tr th:only-of-type {\n",
       "        vertical-align: middle;\n",
       "    }\n",
       "\n",
       "    .dataframe tbody tr th {\n",
       "        vertical-align: top;\n",
       "    }\n",
       "\n",
       "    .dataframe thead th {\n",
       "        text-align: right;\n",
       "    }\n",
       "</style>\n",
       "<table border=\"1\" class=\"dataframe\">\n",
       "  <thead>\n",
       "    <tr style=\"text-align: right;\">\n",
       "      <th></th>\n",
       "      <th>content</th>\n",
       "      <th>score</th>\n",
       "    </tr>\n",
       "  </thead>\n",
       "  <tbody>\n",
       "    <tr>\n",
       "      <th>0</th>\n",
       "      <td>This is an expensive app. That being said, it'...</td>\n",
       "      <td>1</td>\n",
       "    </tr>\n",
       "    <tr>\n",
       "      <th>1</th>\n",
       "      <td>Something is wrong with the last version. Sinc...</td>\n",
       "      <td>1</td>\n",
       "    </tr>\n",
       "    <tr>\n",
       "      <th>2</th>\n",
       "      <td>I wanted to try the app but it never opens. I ...</td>\n",
       "      <td>1</td>\n",
       "    </tr>\n",
       "    <tr>\n",
       "      <th>3</th>\n",
       "      <td>This app is a prime example of building a moun...</td>\n",
       "      <td>1</td>\n",
       "    </tr>\n",
       "    <tr>\n",
       "      <th>4</th>\n",
       "      <td>I have been using it since 2018 and am current...</td>\n",
       "      <td>1</td>\n",
       "    </tr>\n",
       "  </tbody>\n",
       "</table>\n",
       "</div>"
      ],
      "text/plain": [
       "                                             content  score\n",
       "0  This is an expensive app. That being said, it'...      1\n",
       "1  Something is wrong with the last version. Sinc...      1\n",
       "2  I wanted to try the app but it never opens. I ...      1\n",
       "3  This app is a prime example of building a moun...      1\n",
       "4  I have been using it since 2018 and am current...      1"
      ]
     },
     "execution_count": 6,
     "metadata": {},
     "output_type": "execute_result"
    }
   ],
   "source": [
    "# We just keep 2 columns: text and score\n",
    "df = df[['content', 'score']]\n",
    "df.head()"
   ]
  },
  {
   "cell_type": "code",
   "execution_count": 9,
   "metadata": {},
   "outputs": [
    {
     "name": "stdout",
     "output_type": "stream",
     "text": [
      "2908 2594\n"
     ]
    }
   ],
   "source": [
    "pos = df.loc[df['score'] > 4, 'content'].copy().reset_index(drop=True)\n",
    "neg = df.loc[df['score'] < 2, 'content'].copy().reset_index(drop=True)\n",
    "print(len(pos), len(neg))"
   ]
  },
  {
   "cell_type": "code",
   "execution_count": 10,
   "metadata": {},
   "outputs": [
    {
     "name": "stdout",
     "output_type": "stream",
     "text": [
      "I really like this app. The only things I would request is a full month breakdown of each task/habit that was recorded/ accomplished and it's stats. Also if a goals option could be added in addition to task and habit\n"
     ]
    }
   ],
   "source": [
    "# Positive examples\n",
    "print(''.join(pos[np.random.randint(0, len(pos))]))"
   ]
  },
  {
   "cell_type": "code",
   "execution_count": 11,
   "metadata": {},
   "outputs": [
    {
     "name": "stdout",
     "output_type": "stream",
     "text": [
      "The app itself is great. I used it quite regularly a few years back but when I tried to use it again it seems that the 'new' owners don't acknowledge their 'lifetime' subscription. Sure hope my emails get more results besides ... /ignore kthnxbye Sent an email ... they said they opened a ticket and then ... crickets. Nice .. thanks, downgraded to\n"
     ]
    }
   ],
   "source": [
    "# Negative examples\n",
    "print(''.join(neg[np.random.randint(0, len(neg))]))"
   ]
  },
  {
   "cell_type": "code",
   "execution_count": 12,
   "metadata": {},
   "outputs": [],
   "source": [
    "neg = pd.concat([pd.DataFrame(neg), pd.DataFrame(np.zeros(neg.shape), columns=['class'])], 1)\n",
    "pos = pd.concat([pd.DataFrame(pos), pd.DataFrame(np.ones(pos.shape), columns=['class'])], 1)"
   ]
  },
  {
   "cell_type": "code",
   "execution_count": 14,
   "metadata": {},
   "outputs": [
    {
     "name": "stdout",
     "output_type": "stream",
     "text": [
      "186.2000771010023 150.042628163116 1852\n"
     ]
    },
    {
     "data": {
      "text/plain": [
       "<matplotlib.axes._subplots.AxesSubplot at 0x1d18acab1c8>"
      ]
     },
     "execution_count": 14,
     "metadata": {},
     "output_type": "execute_result"
    },
    {
     "data": {
      "image/png": "[encoded data removed]",
      "text/plain": [
       "<Figure size 576x288 with 1 Axes>"
      ]
     },
     "metadata": {
      "needs_background": "light"
     },
     "output_type": "display_data"
    }
   ],
   "source": [
    "# Mean, standard deviation and max length (no. of characters)\n",
    "# Negative reviews\n",
    "lens = neg['content'].str.len()\n",
    "print(lens.mean(), lens.std(), lens.max())\n",
    "lens.hist(figsize=(8, 4), bins=25)"
   ]
  },
  {
   "cell_type": "code",
   "execution_count": 15,
   "metadata": {},
   "outputs": [
    {
     "name": "stdout",
     "output_type": "stream",
     "text": [
      "151.66403026134802 144.44700519257646 1282\n"
     ]
    },
    {
     "data": {
      "text/plain": [
       "<matplotlib.axes._subplots.AxesSubplot at 0x1d18b456508>"
      ]
     },
     "execution_count": 15,
     "metadata": {},
     "output_type": "execute_result"
    },
    {
     "data": {
      "image/png": "[encoded data removed]",
      "text/plain": [
       "<Figure size 576x288 with 1 Axes>"
      ]
     },
     "metadata": {
      "needs_background": "light"
     },
     "output_type": "display_data"
    }
   ],
   "source": [
    "# Positive reviews\n",
    "lens = pos['content'].str.len()\n",
    "print(lens.mean(), lens.std(), lens.max())\n",
    "lens.hist(figsize=(8, 4), bins=25)"
   ]
  },
  {
   "cell_type": "code",
   "execution_count": 17,
   "metadata": {},
   "outputs": [],
   "source": [
    "# Reviews with more than 5000 characters are dropped\n",
    "# Negative reviews\n",
    "long_reviews = neg.loc[neg['content'].str.len() > 5000].index\n",
    "neg.drop(long_reviews, inplace=True)\n",
    "# Positive reviews\n",
    "long_reviews = pos.loc[pos['content'].str.len() > 5000].index\n",
    "pos.drop(long_reviews, inplace=True)"
   ]
  },
  {
   "cell_type": "code",
   "execution_count": 18,
   "metadata": {},
   "outputs": [
    {
     "name": "stdout",
     "output_type": "stream",
     "text": [
      "(2594, 2) (2594, 2)\n"
     ]
    }
   ],
   "source": [
    "np.random.seed(42)\n",
    "rand = np.random.permutation(pos.shape[0])\n",
    "pos = pos.iloc[rand[:neg.shape[0]]].reset_index(drop=True)\n",
    "print(neg.shape, pos.shape)"
   ]
  },
  {
   "cell_type": "code",
   "execution_count": 19,
   "metadata": {},
   "outputs": [],
   "source": [
    "#!# We educe the dataset further so that it computes faster\n",
    "#1# Better models may require the full dataset\n",
    "np.random.seed(42)\n",
    "rand = np.random.permutation(pos.shape[0])\n",
    "pos = pos.iloc[rand[:10000]].reset_index(drop=True)\n",
    "rand = np.random.permutation(neg.shape[0])\n",
    "neg = neg.iloc[rand[:10000]].reset_index(drop=True)"
   ]
  },
  {
   "cell_type": "code",
   "execution_count": 20,
   "metadata": {},
   "outputs": [
    {
     "name": "stdout",
     "output_type": "stream",
     "text": [
      "(5188, 2)\n"
     ]
    },
    {
     "data": {
      "text/html": [
       "<div>\n",
       "<style scoped>\n",
       "    .dataframe tbody tr th:only-of-type {\n",
       "        vertical-align: middle;\n",
       "    }\n",
       "\n",
       "    .dataframe tbody tr th {\n",
       "        vertical-align: top;\n",
       "    }\n",
       "\n",
       "    .dataframe thead th {\n",
       "        text-align: right;\n",
       "    }\n",
       "</style>\n",
       "<table border=\"1\" class=\"dataframe\">\n",
       "  <thead>\n",
       "    <tr style=\"text-align: right;\">\n",
       "      <th></th>\n",
       "      <th>content</th>\n",
       "      <th>class</th>\n",
       "    </tr>\n",
       "  </thead>\n",
       "  <tbody>\n",
       "    <tr>\n",
       "      <th>0</th>\n",
       "      <td>Couldn't figure out how to set reminder times ...</td>\n",
       "      <td>0.0</td>\n",
       "    </tr>\n",
       "    <tr>\n",
       "      <th>1</th>\n",
       "      <td>I couldn't register , the circle rounds and ro...</td>\n",
       "      <td>0.0</td>\n",
       "    </tr>\n",
       "    <tr>\n",
       "      <th>2</th>\n",
       "      <td>I received a notice from planner pro this morn...</td>\n",
       "      <td>0.0</td>\n",
       "    </tr>\n",
       "    <tr>\n",
       "      <th>3</th>\n",
       "      <td>Since Microsoft scrapped \"Wunderlist\" for \"Mic...</td>\n",
       "      <td>1.0</td>\n",
       "    </tr>\n",
       "    <tr>\n",
       "      <th>4</th>\n",
       "      <td>Thanks for pop-up windows returned</td>\n",
       "      <td>1.0</td>\n",
       "    </tr>\n",
       "  </tbody>\n",
       "</table>\n",
       "</div>"
      ],
      "text/plain": [
       "                                             content  class\n",
       "0  Couldn't figure out how to set reminder times ...    0.0\n",
       "1  I couldn't register , the circle rounds and ro...    0.0\n",
       "2  I received a notice from planner pro this morn...    0.0\n",
       "3  Since Microsoft scrapped \"Wunderlist\" for \"Mic...    1.0\n",
       "4                 Thanks for pop-up windows returned    1.0"
      ]
     },
     "execution_count": 20,
     "metadata": {},
     "output_type": "execute_result"
    }
   ],
   "source": [
    "# We merge the positive and negative reviews, and suffle the rows\n",
    "df = pd.concat([pos, neg]).sample(frac=1, random_state=42).reset_index(drop=True)\n",
    "print(df.shape)\n",
    "df.head()"
   ]
  },
  {
   "cell_type": "code",
   "execution_count": 22,
   "metadata": {},
   "outputs": [],
   "source": [
    "# Replacing carriage returns \\r\n",
    "df['content'] = df['content'].str.replace('\\r',' ')"
   ]
  },
  {
   "cell_type": "code",
   "execution_count": 23,
   "metadata": {},
   "outputs": [
    {
     "name": "stderr",
     "output_type": "stream",
     "text": [
      "C:\\Users\\zoe_k\\anaconda3\\lib\\site-packages\\ipykernel_launcher.py:9: SettingWithCopyWarning: \n",
      "A value is trying to be set on a copy of a slice from a DataFrame\n",
      "\n",
      "See the caveats in the documentation: https://pandas.pydata.org/pandas-docs/stable/user_guide/indexing.html#returning-a-view-versus-a-copy\n",
      "  if __name__ == '__main__':\n"
     ]
    }
   ],
   "source": [
    "stop_words = set(stopwords.words('english'))\n",
    "lemmatizer = WordNetLemmatizer()\n",
    "\n",
    "for i in range(df.shape[0]):\n",
    "    clean_tokens = ''\n",
    "    for w in word_tokenize(df.loc[:, ('content')][i]):\n",
    "        if w not in stop_words:\n",
    "            clean_tokens = clean_tokens + ' ' + lemmatizer.lemmatize(w)\n",
    "    df['content'][i] = clean_tokens.translate(str.maketrans('', '', string.punctuation))"
   ]
  },
  {
   "cell_type": "code",
   "execution_count": 24,
   "metadata": {},
   "outputs": [
    {
     "data": {
      "text/html": [
       "<div>\n",
       "<style scoped>\n",
       "    .dataframe tbody tr th:only-of-type {\n",
       "        vertical-align: middle;\n",
       "    }\n",
       "\n",
       "    .dataframe tbody tr th {\n",
       "        vertical-align: top;\n",
       "    }\n",
       "\n",
       "    .dataframe thead th {\n",
       "        text-align: right;\n",
       "    }\n",
       "</style>\n",
       "<table border=\"1\" class=\"dataframe\">\n",
       "  <thead>\n",
       "    <tr style=\"text-align: right;\">\n",
       "      <th></th>\n",
       "      <th>content</th>\n",
       "      <th>class</th>\n",
       "    </tr>\n",
       "  </thead>\n",
       "  <tbody>\n",
       "    <tr>\n",
       "      <th>0</th>\n",
       "      <td>Could nt figure set reminder time wo nt anything</td>\n",
       "      <td>0.0</td>\n",
       "    </tr>\n",
       "    <tr>\n",
       "      <th>1</th>\n",
       "      <td>I could nt register  circle round round  And ...</td>\n",
       "      <td>0.0</td>\n",
       "    </tr>\n",
       "    <tr>\n",
       "      <th>2</th>\n",
       "      <td>I received notice planner pro morning I went ...</td>\n",
       "      <td>0.0</td>\n",
       "    </tr>\n",
       "    <tr>\n",
       "      <th>3</th>\n",
       "      <td>Since Microsoft scrapped  Wunderlist   Micros...</td>\n",
       "      <td>1.0</td>\n",
       "    </tr>\n",
       "    <tr>\n",
       "      <th>4</th>\n",
       "      <td>Thanks popup window returned</td>\n",
       "      <td>1.0</td>\n",
       "    </tr>\n",
       "  </tbody>\n",
       "</table>\n",
       "</div>"
      ],
      "text/plain": [
       "                                             content  class\n",
       "0   Could nt figure set reminder time wo nt anything    0.0\n",
       "1   I could nt register  circle round round  And ...    0.0\n",
       "2   I received notice planner pro morning I went ...    0.0\n",
       "3   Since Microsoft scrapped  Wunderlist   Micros...    1.0\n",
       "4                       Thanks popup window returned    1.0"
      ]
     },
     "execution_count": 24,
     "metadata": {},
     "output_type": "execute_result"
    }
   ],
   "source": [
    "df.head()"
   ]
  },
  {
   "cell_type": "code",
   "execution_count": 26,
   "metadata": {},
   "outputs": [
    {
     "name": "stdout",
     "output_type": "stream",
     "text": [
      "[('I', 'PRP'), ('could', 'MD'), ('nt', 'VB'), ('register', 'JJ'), ('circle', 'NN'), ('round', 'NN'), ('round', 'NN'), ('And', 'CC'), ('nothing', 'NN'), ('happens', 'NNS')]\n"
     ]
    }
   ],
   "source": [
    "print(nltk.pos_tag(word_tokenize(df['content'][1])))"
   ]
  },
  {
   "cell_type": "code",
   "execution_count": 27,
   "metadata": {},
   "outputs": [],
   "source": [
    "# https://www.machinelearningplus.com/nlp/lemmatization-examples-python/\n",
    "from nltk.corpus import wordnet\n",
    "def get_wordnet_pos(word):\n",
    "    \"\"\"Map POS tag to first character lemmatize() accepts\"\"\"\n",
    "    tag = nltk.pos_tag([word])[0][1][0].upper()\n",
    "    tag_dict = {\"J\": wordnet.ADJ,\n",
    "                \"N\": wordnet.NOUN,\n",
    "                \"V\": wordnet.VERB,\n",
    "                \"R\": wordnet.ADV}\n",
    "\n",
    "    return tag_dict.get(tag, wordnet.NOUN)"
   ]
  },
  {
   "cell_type": "code",
   "execution_count": 30,
   "metadata": {},
   "outputs": [
    {
     "name": "stdout",
     "output_type": "stream",
     "text": [
      " Could nt figure set reminder time wo nt anything\n",
      "['Could', 'nt', 'figure', 'set', 'reminder', 'time', 'wo', 'nt', 'anything']\n",
      "\n",
      "\n",
      " I could nt register  circle round round  And nothing happens\n",
      "['I', 'could', 'nt', 'register', 'circle', 'round', 'round', 'And', 'nothing', 'happens']\n",
      "\n",
      "\n",
      " I received notice planner pro morning I went schedule appts  notifies I use app payment received  iI checked bank payment made 01262019  I cancelling unable use \n",
      "['I', 'receive', 'notice', 'planner', 'pro', 'morning', 'I', 'go', 'schedule', 'appts', 'notifies', 'I', 'use', 'app', 'payment', 'receive', 'iI', 'checked', 'bank', 'payment', 'make', '01262019', 'I', 'cancel', 'unable', 'use']\n",
      "\n",
      "\n"
     ]
    }
   ],
   "source": [
    "for i in range(3):\n",
    "    print(df['content'][i])\n",
    "    print([lemmatizer.lemmatize(w, get_wordnet_pos(w)) for w in word_tokenize(df['content'][i])])\n",
    "    print('\\n')"
   ]
  },
  {
   "cell_type": "code",
   "execution_count": 31,
   "metadata": {},
   "outputs": [],
   "source": [
    "def get_clean_token(txt):\n",
    "    return [lemmatizer.lemmatize(w, get_wordnet_pos(w)) for w in word_tokenize(txt)]\n",
    "\n",
    "vect = CountVectorizer(tokenizer=get_clean_token)"
   ]
  },
  {
   "cell_type": "code",
   "execution_count": 32,
   "metadata": {},
   "outputs": [],
   "source": [
    "X_train, X_test, y_train, y_test = train_test_split(df['content'].values, df['class'].values, test_size=0.2, random_state=42)\n",
    "tf_train = vect.fit_transform(X_train)\n",
    "tf_test = vect.transform(X_test)"
   ]
  },
  {
   "cell_type": "code",
   "execution_count": 33,
   "metadata": {},
   "outputs": [
    {
     "name": "stdout",
     "output_type": "stream",
     "text": [
      "  (0, 1428)\t1\n",
      "  (0, 3008)\t1\n",
      "  (0, 4803)\t1\n",
      "  (0, 4740)\t1\n",
      "  (0, 4375)\t1\n",
      "  (0, 4416)\t1\n",
      "  (0, 4479)\t1\n",
      "  (0, 617)\t1\n",
      "  (0, 3785)\t1\n",
      "  (0, 1911)\t1\n",
      "  (0, 3076)\t1\n",
      "  (0, 1339)\t1\n",
      "  (0, 2947)\t1\n",
      "  (0, 619)\t1\n"
     ]
    }
   ],
   "source": [
    "print(tf_train[0])"
   ]
  },
  {
   "cell_type": "code",
   "execution_count": 34,
   "metadata": {},
   "outputs": [
    {
     "data": {
      "text/plain": [
       "<4150x5329 sparse matrix of type '<class 'numpy.int64'>'\n",
       "\twith 69298 stored elements in Compressed Sparse Row format>"
      ]
     },
     "execution_count": 34,
     "metadata": {},
     "output_type": "execute_result"
    }
   ],
   "source": [
    "tf_train"
   ]
  },
  {
   "cell_type": "code",
   "execution_count": 35,
   "metadata": {},
   "outputs": [
    {
     "data": {
      "text/plain": [
       "5329"
      ]
     },
     "execution_count": 35,
     "metadata": {},
     "output_type": "execute_result"
    }
   ],
   "source": [
    "vocab = vect.get_feature_names()\n",
    "len(vocab)"
   ]
  },
  {
   "cell_type": "code",
   "execution_count": 36,
   "metadata": {},
   "outputs": [
    {
     "name": "stdout",
     "output_type": "stream",
     "text": [
      "Accuracy: 0.918111753371869\n"
     ]
    }
   ],
   "source": [
    "model = MultinomialNB().fit(tf_train.toarray(), y_train)\n",
    "prediction = model.predict(tf_test.toarray())\n",
    "acc = (prediction==y_test).mean()\n",
    "print(f'Accuracy: {acc}')"
   ]
  },
  {
   "cell_type": "code",
   "execution_count": 37,
   "metadata": {},
   "outputs": [
    {
     "name": "stdout",
     "output_type": "stream",
     "text": [
      "[[476  41]\n",
      " [ 44 477]]\n"
     ]
    },
    {
     "ename": "NameError",
     "evalue": "name 'plot_confusion_matrix' is not defined",
     "output_type": "error",
     "traceback": [
      "\u001b[1;31m---------------------------------------------------------------------------\u001b[0m",
      "\u001b[1;31mNameError\u001b[0m                                 Traceback (most recent call last)",
      "\u001b[1;32m<ipython-input-37-42642771026b>\u001b[0m in \u001b[0;36m<module>\u001b[1;34m\u001b[0m\n\u001b[0;32m      1\u001b[0m \u001b[0mcm\u001b[0m \u001b[1;33m=\u001b[0m \u001b[0mconfusion_matrix\u001b[0m\u001b[1;33m(\u001b[0m\u001b[0my_test\u001b[0m\u001b[1;33m,\u001b[0m \u001b[0mprediction\u001b[0m\u001b[1;33m.\u001b[0m\u001b[0mT\u001b[0m\u001b[1;33m)\u001b[0m\u001b[1;33m\u001b[0m\u001b[1;33m\u001b[0m\u001b[0m\n\u001b[0;32m      2\u001b[0m \u001b[0mprint\u001b[0m\u001b[1;33m(\u001b[0m\u001b[0mcm\u001b[0m\u001b[1;33m)\u001b[0m\u001b[1;33m\u001b[0m\u001b[1;33m\u001b[0m\u001b[0m\n\u001b[1;32m----> 3\u001b[1;33m \u001b[0mplot_confusion_matrix\u001b[0m\u001b[1;33m(\u001b[0m\u001b[0mcm\u001b[0m\u001b[1;33m,\u001b[0m \u001b[0mclasses\u001b[0m\u001b[1;33m=\u001b[0m\u001b[1;33m[\u001b[0m\u001b[1;34m'Negative'\u001b[0m\u001b[1;33m,\u001b[0m \u001b[1;34m'Positive'\u001b[0m\u001b[1;33m]\u001b[0m\u001b[1;33m)\u001b[0m\u001b[1;33m\u001b[0m\u001b[1;33m\u001b[0m\u001b[0m\n\u001b[0m",
      "\u001b[1;31mNameError\u001b[0m: name 'plot_confusion_matrix' is not defined"
     ]
    }
   ],
   "source": [
    "cm = confusion_matrix(y_test, prediction.T)\n",
    "print(cm)\n",
    "plot_confusion_matrix(cm, classes=['Negative', 'Positive'])"
   ]
  },
  {
   "cell_type": "code",
   "execution_count": null,
   "metadata": {},
   "outputs": [],
   "source": []
  }
 ],
 "metadata": {
  "kernelspec": {
   "display_name": "Python 3",
   "language": "python",
   "name": "python3"
  },
  "language_info": {
   "codemirror_mode": {
    "name": "ipython",
    "version": 3
   },
   "file_extension": ".py",
   "mimetype": "text/x-python",
   "name": "python",
   "nbconvert_exporter": "python",
   "pygments_lexer": "ipython3",
   "version": "3.7.6"
  }
 },
 "nbformat": 4,
 "nbformat_minor": 4
}
